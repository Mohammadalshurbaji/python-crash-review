{
 "cells": [
  {
   "cell_type": "markdown",
   "id": "9c58af2c-9459-4847-969f-84ef1a7b49b7",
   "metadata": {},
   "source": [
    "# PEP 8 (Python Enhancement Proposal 8) Tutorial:\n",
    "##"
   ]
  },
  {
   "cell_type": "code",
   "execution_count": 14,
   "id": "1866e27e-b256-406b-9afa-6430c58b39e0",
   "metadata": {},
   "outputs": [
    {
     "name": "stdout",
     "output_type": "stream",
     "text": [
      "29\n",
      "29\n",
      "[0, 4, 16, 36, 64]\n",
      "[1, 3, 5, 7, 9]\n",
      "[0, 3, 6, 9, 12, 15, 18, 21, 24, 27]\n",
      "[0, 15]\n"
     ]
    }
   ],
   "source": [
    "data = (\"This is a long sentence that needs to be broken \"\n",
    "        \"into multiple lines for readability.\")\n",
    "\n",
    "sum = 1 + 2 + 5 + 6 + \\\n",
    "      7 + 8\n",
    "result = 1 + 2 + 3 + \\\n",
    "         4 + 5 + 6\n",
    "print(sum)\n",
    "class MyClass:\n",
    "    \n",
    "    def method_one(self):\n",
    "        print(\"First method\")\n",
    "\n",
    "    def method_two(self):\n",
    "        print(\"Second method\")\n",
    "\n",
    "if sum > 20:\n",
    "    print(sum)\n",
    "\n",
    "squared = [x**2 for x in range(10) if x%2 == 0]\n",
    "print(squared)\n",
    "odds = [x for x in range(10) if x%2 == 1]\n",
    "print(odds)\n",
    "multiples_of_three = [x for x in range(30) if x%3 == 0]\n",
    "print(multiples_of_three)\n",
    "multiples_of_three_and_five = [x for x in range(30) if x%3 == 0 and x%5 == 0]\n",
    "print(multiples_of_three_and_five)"
   ]
  },
  {
   "cell_type": "markdown",
   "id": "88c0c911-7e81-4e4c-9a5c-1ec3b02a3901",
   "metadata": {},
   "source": [
    "# Lists Tutorial "
   ]
  },
  {
   "cell_type": "code",
   "execution_count": 4,
   "id": "c00fc217-aa5e-490a-8e7a-b94a4859d560",
   "metadata": {},
   "outputs": [
    {
     "name": "stdout",
     "output_type": "stream",
     "text": [
      "[0, 1, 2, 3, 4, 5, 6, 7, 8, 9, 10, 12]\n",
      "[0, 1, 2, 3, 4, 5, 6, 7, 8, 9, 10, 12, 5]\n",
      "[0, 1, 2, 3, 4, 5, 6, 7, 8, 9, 10, 12]\n",
      "[0, 1, 2, 3, 4, 6, 7, 8, 9, 10, 12]\n",
      "[12, 10, 9, 8, 7, 6, 4, 3, 2, 1, 0]\n",
      "[0, 1, 2, 3, 4, 6, 7, 8, 9, 10, 12]\n",
      "[0, 1, 2, 7, 3, 4, 6, 7, 8, 9, 10, 12]\n",
      "12\n",
      "[0, 4, 16, 36, 64, 100, 144]\n"
     ]
    }
   ],
   "source": [
    "size = 10\n",
    "arr = list(range(size))\n",
    "arr = arr + [10,12]\n",
    "print(arr)\n",
    "arr.append(5)\n",
    "print(arr)\n",
    "arr.pop()\n",
    "print(arr)\n",
    "arr.remove(5)\n",
    "print(arr)\n",
    "arr.reverse()\n",
    "print(arr)\n",
    "arr.sort()\n",
    "print(arr)\n",
    "arr.insert(3,7)\n",
    "print(arr)\n",
    "print(len(arr))\n",
    "\n",
    "squared = [x**2 for x in arr if x%2 == 0]\n",
    "print(squared)"
   ]
  },
  {
   "cell_type": "markdown",
   "id": "9f35eaa1-7a3d-4412-abf9-6e99a9446cc6",
   "metadata": {},
   "source": [
    "# Tuple tutorial"
   ]
  },
  {
   "cell_type": "code",
   "execution_count": 60,
   "id": "a91851cb-0033-4f79-92f6-2cfd0597bf2c",
   "metadata": {},
   "outputs": [
    {
     "name": "stdout",
     "output_type": "stream",
     "text": [
      "1\n",
      "(1, 2, 3, 4, 5) 1 2 3 4 5\n"
     ]
    }
   ],
   "source": [
    "tup = (1,2,3,4,5)\n",
    "print(tup[0])\n",
    "# Unpacking\n",
    "a,b,c,d,e = tup\n",
    "print(tup, a,b,c,d,e)\n",
    "\n"
   ]
  },
  {
   "cell_type": "markdown",
   "id": "b2345975-818e-4ddf-9a39-38d70a1b2147",
   "metadata": {},
   "source": [
    "# Dictionaries Tutorial"
   ]
  },
  {
   "cell_type": "code",
   "execution_count": 73,
   "id": "90f2f375-8541-44bb-abf8-ac4f0977cc16",
   "metadata": {},
   "outputs": [
    {
     "name": "stdout",
     "output_type": "stream",
     "text": [
      "Mohammad\n",
      "dict_items([('name', 'Mohammad'), ('age', 25), ('Major', 'Computer Science')])\n",
      "name:Mohammad\n",
      "age:25\n",
      "Major:Computer Science\n",
      "{0: 0, 1: 1, 2: 4, 3: 9, 4: 16}\n"
     ]
    }
   ],
   "source": [
    "my_dic = {\"name\" : \"Mohammad\", \"age\" : 25, \"Major\" : \"Computer Science\"}\n",
    "print(my_dic[\"name\"])\n",
    "print(my_dic.items())\n",
    "for key, value in my_dic.items():\n",
    "    \n",
    "        \n",
    "    print(f\"{key}:{value}\")\n",
    "\n",
    "# Dictionary comprehension\n",
    "squared_dict = {x: x**2 for x in range(5)}\n",
    "print(squared_dict)"
   ]
  },
  {
   "cell_type": "markdown",
   "id": "cc9792bf-8ead-4cb1-891d-29f8d2982cf5",
   "metadata": {},
   "source": [
    "# Defaultdict Library \n",
    "\n",
    "It'll provide a default value for missing keys"
   ]
  },
  {
   "cell_type": "code",
   "execution_count": 1,
   "id": "1166c8e1-3402-4fb2-a6af-a69b5e3463b3",
   "metadata": {},
   "outputs": [
    {
     "name": "stdout",
     "output_type": "stream",
     "text": [
      "defaultdict(<class 'list'>, {'fruits': ['apple', 'banana'], 'vegetables': ['carrot']})\n",
      "defaultdict(<class 'int'>, {'apple': 2, 'banana': 1})\n"
     ]
    }
   ],
   "source": [
    "from collections import defaultdict\n",
    "\n",
    "# Ex1. Create a defaultdict with list as default factory\n",
    "grouped = defaultdict(list)\n",
    "\n",
    "# Grouping items by keys\n",
    "grouped['fruits'].append('apple')\n",
    "grouped['fruits'].append('banana')\n",
    "grouped['vegetables'].append('carrot')\n",
    "\n",
    "print(grouped)\n",
    "\n",
    "# Ex.2 from collections import defaultdict\n",
    "\n",
    "# Create a defaultdict with int as default factory\n",
    "counts = defaultdict(int)\n",
    "\n",
    "# Using it to count occurrences\n",
    "counts['apple'] += 1\n",
    "counts['banana'] += 1\n",
    "counts['apple'] += 1\n",
    "\n",
    "print(counts)\n"
   ]
  },
  {
   "cell_type": "markdown",
   "id": "f725770f-dec3-4384-af26-e0a4f48b3a74",
   "metadata": {},
   "source": [
    "# Sets Tutorial"
   ]
  },
  {
   "cell_type": "code",
   "execution_count": 11,
   "id": "ec542ada-5d40-4f67-815f-bf2909e9cb3e",
   "metadata": {},
   "outputs": [
    {
     "name": "stdout",
     "output_type": "stream",
     "text": [
      "{1, 2, 3}\n",
      "{1, 2, 4}\n",
      "{1, 2, 3, 4, 5}\n",
      "set()\n",
      "{3, 5}\n",
      "{1, 2, 4}\n",
      "{1, 2, 3, 4, 5}\n"
     ]
    }
   ],
   "source": [
    "my_set = {1,2,3,3}\n",
    "print(my_set)\n",
    "my_set.add(4)\n",
    "my_set.remove(3)\n",
    "print(my_set)\n",
    "set2 = set(tup)\n",
    "print(set2)\n",
    "print(my_set - set2)\n",
    "print(set2 - my_set)\n",
    "print(my_set & set2)\n",
    "print(my_set | set2)"
   ]
  },
  {
   "cell_type": "markdown",
   "id": "6d6d4f03-ef98-4ac0-81de-e79a3b2c23ea",
   "metadata": {},
   "source": [
    "# Comprehensions & Generators"
   ]
  },
  {
   "cell_type": "code",
   "execution_count": 23,
   "id": "33c4ccf0-dac1-407a-84a4-07adfe47b344",
   "metadata": {},
   "outputs": [
    {
     "name": "stdout",
     "output_type": "stream",
     "text": [
      "0\n",
      "1\n",
      "4\n",
      "[9, 16]\n",
      "[]\n"
     ]
    }
   ],
   "source": [
    "def number_generators(n):\n",
    "    for i in range(n):\n",
    "        yield i**2\n",
    "gen = number_generators(5)\n",
    "\n",
    "print(next(gen))\n",
    "print(next(gen))\n",
    "print(next(gen))\n",
    "print(list(gen))\n",
    "print(list(gen))"
   ]
  },
  {
   "cell_type": "markdown",
   "id": "02307a66-a4fc-4824-a9b6-d4f6aa1875c2",
   "metadata": {},
   "source": [
    "# String Manipulation"
   ]
  },
  {
   "cell_type": "code",
   "execution_count": 24,
   "id": "d1e8f1c0-269a-4fe2-8778-02e48425de9f",
   "metadata": {},
   "outputs": [
    {
     "name": "stdout",
     "output_type": "stream",
     "text": [
      "meta interview\n",
      "META INTERVIEW\n",
      "['Meta', 'Interview']\n",
      "Meta Interview\n",
      "Meta Preparation\n",
      "Meta\n",
      "weivretnI ateM\n",
      "My name is Mohammad\n"
     ]
    }
   ],
   "source": [
    "s = \"Meta Interview\"\n",
    "\n",
    "print(s.lower())  # Convert to lowercase\n",
    "print(s.upper())  # Convert to uppercase\n",
    "print(s.split())  # Split into a list\n",
    "print(\" \".join(['Meta', 'Interview']))  # Join list into string\n",
    "print(s.replace(\"Interview\", \"Preparation\"))  # Replace words\n",
    "\n",
    "# Slicing\n",
    "print(s[0:4])  # 'Meta'\n",
    "print(s[::-1])  # Reverse string\n",
    "\n",
    "# f-strings (Best for formatting)\n",
    "name = \"Mohammad\"\n",
    "print(f\"My name is {name}\")\n"
   ]
  },
  {
   "cell_type": "markdown",
   "id": "859c88c1-f04b-410c-b0a3-a901dff1a04f",
   "metadata": {},
   "source": [
    "# File Handling"
   ]
  },
  {
   "cell_type": "code",
   "execution_count": null,
   "id": "39fe4ce8-a35c-4513-baa3-bb3995b93c31",
   "metadata": {},
   "outputs": [],
   "source": [
    "with open(\"sample.txt\", \"r\") as file:\n",
    "    content = file.read()\n",
    "    print(content)\n",
    "with open(\"sample.txt\", \"w\") as file:\n",
    "    file.write(\"This is a test file.\")\n",
    "with open(\"sample.txt\", \"a\") as file:\n",
    "    file.write(\"\\nAppended line.\")\n"
   ]
  },
  {
   "cell_type": "markdown",
   "id": "abd5b570-6906-4d4c-860e-c6def460e62b",
   "metadata": {},
   "source": [
    "# Exception Handling"
   ]
  },
  {
   "cell_type": "code",
   "execution_count": 3,
   "id": "84abfeaa-57ce-46d8-b7ad-b8787399291b",
   "metadata": {},
   "outputs": [
    {
     "name": "stdout",
     "output_type": "stream",
     "text": [
      "You can't divide by zero!\n",
      "Execution completed.\n"
     ]
    }
   ],
   "source": [
    "try:\n",
    "    x = 10 / 0  # ZeroDivisionError\n",
    "except ZeroDivisionError:\n",
    "    print(\"You can't divide by zero!\")\n",
    "except Exception as e:\n",
    "    print(f\"An error occurred: {e}\")\n",
    "finally:\n",
    "    print(\"Execution completed.\")  # Always executes\n"
   ]
  },
  {
   "cell_type": "code",
   "execution_count": 21,
   "id": "9205f3c5-3aa6-46a7-b864-28532b35a3df",
   "metadata": {},
   "outputs": [
    {
     "name": "stdout",
     "output_type": "stream",
     "text": [
      "error occured\n",
      "Excution Completed\n",
      "5.0\n",
      "Excution Completed\n",
      "2.5\n",
      "Excution Completed\n",
      "1.6666666666666667\n",
      "Excution Completed\n",
      "1.25\n",
      "Excution Completed\n"
     ]
    }
   ],
   "source": [
    "for i in range(5):\n",
    "    try:\n",
    "        print(5/i)\n",
    "    # except ZeroDivisionError:\n",
    "    #     print(\"you tried to divide by zero\")\n",
    "    except Exception as e:\n",
    "        print(\"error occured\")\n",
    "    finally:\n",
    "        print(\"Excution Completed\")"
   ]
  },
  {
   "cell_type": "code",
   "execution_count": 6,
   "id": "b6e0b659-3718-428d-a568-685e1a1669fa",
   "metadata": {},
   "outputs": [
    {
     "name": "stdout",
     "output_type": "stream",
     "text": [
      "When i = 0 then it's Divsion by Zero\n",
      "Exception Completed\n",
      "runs smoothly\n",
      "Exception Completed\n",
      "runs smoothly\n",
      "Exception Completed\n",
      "runs smoothly\n",
      "Exception Completed\n",
      "runs smoothly\n",
      "Exception Completed\n"
     ]
    }
   ],
   "source": [
    "for i in range(5):\n",
    "    try:\n",
    "        x = 10/i\n",
    "    except ZeroDivisionError:\n",
    "        print(f\"When i = {i} then it's Divsion by Zero\")\n",
    "    else:\n",
    "        print(\"runs smoothly\")\n",
    "    finally: \n",
    "        print(\"Exception Completed\")"
   ]
  },
  {
   "cell_type": "code",
   "execution_count": 23,
   "id": "9b871efc-c9e8-458f-a5dd-e3df871f0d7d",
   "metadata": {},
   "outputs": [
    {
     "name": "stdout",
     "output_type": "stream",
     "text": [
      "error occured The student is failed\n",
      "error occured The student is failed\n",
      "error occured The student is failed\n",
      "error occured The student is failed\n",
      "error occured The student is failed\n"
     ]
    }
   ],
   "source": [
    "def check_grade(grade):\n",
    "    if grade < 50:\n",
    "        raise ValueError(\"The student is failed\")\n",
    "    return f\"Grade is {grade}\"\n",
    "for i in range(5):\n",
    "    try:\n",
    "        print(check_grade(i))\n",
    "    except ValueError as e:\n",
    "        print(f\"error occured {e}\")"
   ]
  },
  {
   "cell_type": "code",
   "execution_count": 12,
   "id": "f4b32686-8823-4846-a4da-12aabb44835a",
   "metadata": {},
   "outputs": [
    {
     "name": "stdout",
     "output_type": "stream",
     "text": [
      "Error: The Student is failed\n",
      "Error: The Student is failed\n",
      "Error: The Student is failed\n",
      "Error: The Student is failed\n",
      "Error: The Student is failed\n",
      "Error: The Student is failed\n",
      "Error: The Student is failed\n",
      "Error: The Student is failed\n",
      "Error: The Student is failed\n",
      "Error: The Student is failed\n",
      "Error: The Student is failed\n",
      "Error: The Student is failed\n",
      "Error: The Student is failed\n",
      "Error: The Student is failed\n",
      "Error: The Student is failed\n",
      "Error: The Student is failed\n",
      "Error: The Student is failed\n",
      "Error: The Student is failed\n",
      "Error: The Student is failed\n",
      "Error: The Student is failed\n",
      "Error: The Student is failed\n",
      "Error: The Student is failed\n",
      "Error: The Student is failed\n",
      "Error: The Student is failed\n",
      "Error: The Student is failed\n",
      "Error: The Student is failed\n",
      "Error: The Student is failed\n",
      "Error: The Student is failed\n",
      "Error: The Student is failed\n",
      "Error: The Student is failed\n",
      "Error: The Student is failed\n",
      "Error: The Student is failed\n",
      "Error: The Student is failed\n",
      "Error: The Student is failed\n",
      "Error: The Student is failed\n",
      "Error: The Student is failed\n",
      "Error: The Student is failed\n",
      "Error: The Student is failed\n",
      "Error: The Student is failed\n",
      "Error: The Student is failed\n",
      "Error: The Student is failed\n",
      "Error: The Student is failed\n",
      "Error: The Student is failed\n",
      "Error: The Student is failed\n",
      "Error: The Student is failed\n",
      "Error: The Student is failed\n",
      "Error: The Student is failed\n",
      "Error: The Student is failed\n",
      "Error: The Student is failed\n",
      "Error: The Student is failed\n",
      "Grade is 50\n",
      "Grade is 51\n",
      "Grade is 52\n",
      "Grade is 53\n",
      "Grade is 54\n",
      "Grade is 55\n",
      "Grade is 56\n",
      "Grade is 57\n",
      "Grade is 58\n",
      "Grade is 59\n",
      "Grade is 60\n",
      "Grade is 61\n",
      "Grade is 62\n",
      "Grade is 63\n",
      "Grade is 64\n",
      "Grade is 65\n",
      "Grade is 66\n",
      "Grade is 67\n",
      "Grade is 68\n",
      "Grade is 69\n",
      "Grade is 70\n",
      "Grade is 71\n",
      "Grade is 72\n",
      "Grade is 73\n",
      "Grade is 74\n",
      "Grade is 75\n",
      "Grade is 76\n",
      "Grade is 77\n",
      "Grade is 78\n",
      "Grade is 79\n",
      "Grade is 80\n",
      "Grade is 81\n",
      "Grade is 82\n",
      "Grade is 83\n",
      "Grade is 84\n",
      "Grade is 85\n",
      "Grade is 86\n",
      "Grade is 87\n",
      "Grade is 88\n",
      "Grade is 89\n",
      "Grade is 90\n",
      "Grade is 91\n",
      "Grade is 92\n",
      "Grade is 93\n",
      "Grade is 94\n",
      "Grade is 95\n",
      "Grade is 96\n",
      "Grade is 97\n",
      "Grade is 98\n",
      "Grade is 99\n"
     ]
    }
   ],
   "source": [
    "def check_grade(grade):\n",
    "    if (grade < 50):\n",
    "        raise ValueError(\"The Student is failed\")\n",
    "    return f\"Grade is {grade}\"\n",
    "for i in range(100):\n",
    "    try:\n",
    "        print(check_grade(i))\n",
    "    except ValueError as e:\n",
    "        print(f\"Error: {e}\")"
   ]
  },
  {
   "cell_type": "code",
   "execution_count": 26,
   "id": "4685dc41-40b8-4ed7-8e6e-a7bdcf159314",
   "metadata": {},
   "outputs": [
    {
     "name": "stdout",
     "output_type": "stream",
     "text": [
      "error occored The student is failed\n",
      "error occored The student is failed\n",
      "error occored The student is failed\n",
      "error occored The student is failed\n",
      "error occored The student is failed\n"
     ]
    }
   ],
   "source": [
    "class FailedStud(Exception):\n",
    "    pass\n",
    "def check_grade(grade):\n",
    "    if grade < 50:\n",
    "        raise FailedStud(\"The student is failed\")\n",
    "    return f\"Grade is {grade}\"\n",
    "for i in range(5):\n",
    "    try:\n",
    "        print(check_grade(i))\n",
    "    except FailedStud as e:\n",
    "        print(f\"error occored {e}\")"
   ]
  },
  {
   "cell_type": "code",
   "execution_count": 14,
   "id": "e5632b8d-0a38-45be-a625-303db60f1d96",
   "metadata": {},
   "outputs": [
    {
     "name": "stdout",
     "output_type": "stream",
     "text": [
      "Error: The Student is failed\n",
      "Error: The Student is failed\n",
      "Error: The Student is failed\n",
      "Error: The Student is failed\n",
      "Error: The Student is failed\n",
      "Error: The Student is failed\n",
      "Error: The Student is failed\n",
      "Error: The Student is failed\n",
      "Error: The Student is failed\n",
      "Error: The Student is failed\n",
      "Error: The Student is failed\n",
      "Error: The Student is failed\n",
      "Error: The Student is failed\n",
      "Error: The Student is failed\n",
      "Error: The Student is failed\n",
      "Error: The Student is failed\n",
      "Error: The Student is failed\n",
      "Error: The Student is failed\n",
      "Error: The Student is failed\n",
      "Error: The Student is failed\n",
      "Error: The Student is failed\n",
      "Error: The Student is failed\n",
      "Error: The Student is failed\n",
      "Error: The Student is failed\n",
      "Error: The Student is failed\n",
      "Error: The Student is failed\n",
      "Error: The Student is failed\n",
      "Error: The Student is failed\n",
      "Error: The Student is failed\n",
      "Error: The Student is failed\n",
      "Error: The Student is failed\n",
      "Error: The Student is failed\n",
      "Error: The Student is failed\n",
      "Error: The Student is failed\n",
      "Error: The Student is failed\n",
      "Error: The Student is failed\n",
      "Error: The Student is failed\n",
      "Error: The Student is failed\n",
      "Error: The Student is failed\n",
      "Error: The Student is failed\n",
      "Error: The Student is failed\n",
      "Error: The Student is failed\n",
      "Error: The Student is failed\n",
      "Error: The Student is failed\n",
      "Error: The Student is failed\n",
      "Error: The Student is failed\n",
      "Error: The Student is failed\n",
      "Error: The Student is failed\n",
      "Error: The Student is failed\n",
      "Error: The Student is failed\n",
      "Grade is 50\n",
      "Grade is 51\n",
      "Grade is 52\n",
      "Grade is 53\n",
      "Grade is 54\n",
      "Grade is 55\n",
      "Grade is 56\n",
      "Grade is 57\n",
      "Grade is 58\n",
      "Grade is 59\n",
      "Grade is 60\n",
      "Grade is 61\n",
      "Grade is 62\n",
      "Grade is 63\n",
      "Grade is 64\n",
      "Grade is 65\n",
      "Grade is 66\n",
      "Grade is 67\n",
      "Grade is 68\n",
      "Grade is 69\n",
      "Grade is 70\n",
      "Grade is 71\n",
      "Grade is 72\n",
      "Grade is 73\n",
      "Grade is 74\n",
      "Grade is 75\n",
      "Grade is 76\n",
      "Grade is 77\n",
      "Grade is 78\n",
      "Grade is 79\n",
      "Grade is 80\n",
      "Grade is 81\n",
      "Grade is 82\n",
      "Grade is 83\n",
      "Grade is 84\n",
      "Grade is 85\n",
      "Grade is 86\n",
      "Grade is 87\n",
      "Grade is 88\n",
      "Grade is 89\n",
      "Grade is 90\n",
      "Grade is 91\n",
      "Grade is 92\n",
      "Grade is 93\n",
      "Grade is 94\n",
      "Grade is 95\n",
      "Grade is 96\n",
      "Grade is 97\n",
      "Grade is 98\n",
      "Grade is 99\n"
     ]
    }
   ],
   "source": [
    "class FailedStudent(Exception):\n",
    "    pass\n",
    "def check_grade(grade):\n",
    "    if (grade < 50):\n",
    "        raise FailedStudent(\"The Student is failed\")\n",
    "    return f\"Grade is {grade}\"\n",
    "for i in range(100):\n",
    "    try:\n",
    "        print(check_grade(i))\n",
    "    except FailedStudent as e:\n",
    "        print(f\"Error: {e}\")"
   ]
  },
  {
   "cell_type": "markdown",
   "id": "7ac8ba0f-9699-415e-ae2d-f00b26dc8b35",
   "metadata": {},
   "source": [
    "# Constructors and Destructors"
   ]
  },
  {
   "cell_type": "code",
   "execution_count": 25,
   "id": "95f815a1-48cb-4fb5-ae50-b9425fe380f6",
   "metadata": {},
   "outputs": [
    {
     "name": "stdout",
     "output_type": "stream",
     "text": [
      "constructor called: Mohammad is 25 yeaers old.\n",
      "Destructor called: Ahmad is being destroyed.\n",
      "name: Mohammad, Age: 25\n",
      "Destructor called: Ahmad is being destroyed.\n"
     ]
    }
   ],
   "source": [
    "class FirstTrial:\n",
    "    def __init__(self, name,age):\n",
    "        self.name = name\n",
    "        self.age = age\n",
    "        print(f\"constructor called: {self.name} is {self.age} yeaers old.\")\n",
    "\n",
    "    def display(self):\n",
    "        print(f\"name: {self.name}, Age: {self.age}\")\n",
    "    def __del__(self):\n",
    "        print(f\"Destructor called: {self.name} is being destroyed.\")\n",
    "First = FirstTrial(\"Mohammad\", 25)\n",
    "First.display()\n",
    "First.name = \"Ahmad\"\n",
    "name = First.name\n",
    "del First"
   ]
  },
  {
   "cell_type": "markdown",
   "id": "84bfab72-8f96-4833-9eb7-bfd78ed01a3d",
   "metadata": {},
   "source": [
    "# Type casting and imput funciton:\n"
   ]
  },
  {
   "cell_type": "code",
   "execution_count": null,
   "id": "4ba09df6-9ae4-4b9a-a6de-43d82c321602",
   "metadata": {},
   "outputs": [
    {
     "name": "stdin",
     "output_type": "stream",
     "text": [
      "Ask the user to input value: 10\n"
     ]
    },
    {
     "name": "stdout",
     "output_type": "stream",
     "text": [
      "10\n"
     ]
    },
    {
     "name": "stdin",
     "output_type": "stream",
     "text": [
      "Ask the user to input value: 20\n"
     ]
    },
    {
     "name": "stdout",
     "output_type": "stream",
     "text": [
      "30\n"
     ]
    }
   ],
   "source": [
    "sum = 0\n",
    "for i in range(5):\n",
    "    new_value = input(\"Ask the user to input value:\")\n",
    "    sum = sum + int(new_value)\n",
    "    print(sum)"
   ]
  },
  {
   "cell_type": "markdown",
   "id": "e67ed9a4-4aae-4199-8672-edd8cbe02098",
   "metadata": {},
   "source": [
    "# Zip Function\n",
    "Iterate over several iterables in parallel, producing tuples with an item from each one."
   ]
  },
  {
   "cell_type": "code",
   "execution_count": 35,
   "id": "cfe99796-7fb9-49c4-95ec-d1984a907509",
   "metadata": {},
   "outputs": [
    {
     "name": "stdout",
     "output_type": "stream",
     "text": [
      "(1, 'sugar')\n",
      "(2, 'spice')\n",
      "(3, 'everything nice')\n",
      "(1, 1, 'j')\n",
      "(2, 2, 'h')\n",
      "(3, 3, 'k')\n",
      "(4, 4, 'd')\n",
      "(5, 5, 's')\n"
     ]
    }
   ],
   "source": [
    "for item in zip([1, 2, 3], ['sugar', 'spice', 'everything nice']):\n",
    "    print(item)\n",
    "for item in zip([1,2,3,4,5], [1,2,3,4,5], ['j','h','k','d', 's']):\n",
    "    print(item)"
   ]
  },
  {
   "cell_type": "markdown",
   "id": "0da99566-2ef4-426d-a71f-ba3cd1df2c63",
   "metadata": {},
   "source": [
    "# Unzipping"
   ]
  },
  {
   "cell_type": "code",
   "execution_count": 4,
   "id": "26647b8d-e32e-4d93-a3cd-87058163650f",
   "metadata": {},
   "outputs": [
    {
     "name": "stdout",
     "output_type": "stream",
     "text": [
      "[(1, 2, 3), ('a', 'b', 'c')]\n"
     ]
    }
   ],
   "source": [
    "# Given a list of tuples\n",
    "pairs = [(1, 'a'), (2, 'b'), (3, 'c')]\n",
    "\n",
    "# Unzipping the pairs using zip(*pairs)\n",
    "unzipped = zip(*pairs)\n",
    "unzipped = list(unzipped)  # Converting to list for visualization\n",
    "\n",
    "print(unzipped)\n"
   ]
  },
  {
   "cell_type": "markdown",
   "id": "a1d67519-34eb-4da5-8cd4-71644aca0ac5",
   "metadata": {},
   "source": [
    "# Greedy Algorithms Vs. Dynamic Programming\n",
    "\n",
    "Both Dynamic Programming (DP) and Greedy Algorithms are techniques used for solving optimization problems, but they are fundamentally different in terms of their approach and how they make decisions.\n",
    "\n",
    "Approach\n",
    "\n",
    "    Dynamic Programming (DP):\n",
    "        DP is based on breaking down a problem into smaller subproblems and solving each subproblem once and storing the solution to avoid redundant work (i.e., memoization or tabulation).\n",
    "        Optimal Substructure: The solution to the problem can be constructed from solutions to subproblems.\n",
    "        Overlapping Subproblems: The same subproblems are solved multiple times, and thus storing the results saves computation time.\n",
    "\n",
    "    Greedy Algorithm:\n",
    "        Greedy algorithms solve the problem by making a local optimal choice at each step with the hope of finding a global optimum.\n",
    "        Greedy Choice Property: At each step, the algorithm picks the best possible option, without reconsidering previous choices.\n",
    "        Unlike DP, it doesn't store intermediate results for future use.\n",
    "\n",
    "Optimality Guarantee\n",
    "\n",
    "    Dynamic Programming (DP):\n",
    "        Guaranteed to find the optimal solution because it considers all subproblems and solves them optimally.\n",
    "        DP explores all possibilities and ensures that the final solution is the best by using previously computed solutions.\n",
    "    Greedy Algorithm:\n",
    "        No guarantee of an optimal solution in all cases. Greedy algorithms may fail to provide the best solution in problems where local optimal choices don't lead to the global optimal solution.\n",
    "        However, in many problems (like Fractional Knapsack, MST), the greedy approach does give the optimal solution.\n",
    "Time Complexity\n",
    "\n",
    "    Dynamic Programming (DP):\n",
    "        DP usually has a higher time complexity due to its need to solve subproblems multiple times, but it saves time by storing solutions to avoid recomputation (memoization/tabulation).\n",
    "        Time Complexity: Can vary but often O(n^2), O(n^3), or even higher depending on the problem.\n",
    "\n",
    "    Greedy Algorithm:\n",
    "        Greedy algorithms generally have lower time complexity because they only make a single pass over the input or a few passes to make local choices.\n",
    "        Time Complexity: Usually O(n log n) or O(n), depending on the problem and the algorithm.\n",
    " Example\n",
    "Dynamic Programming Example:\n",
    "\n",
    "    0/1 Knapsack Problem: Given a set of items, each with a weight and a value, determine the most valuable subset of items that fit into a knapsack of a fixed capacity.\n",
    "        DP will build a table to store the maximum value achievable for each weight and capacity combination.\n",
    "\n",
    "Greedy Algorithm Example:\n",
    "\n",
    "    Fractional Knapsack Problem: Given a set of items, each with a weight and a value, determine the most valuable items to take in a knapsack where you can take fractions of items.\n",
    "        Greedy algorithm sorts the items by value/weight ratio and picks the most valuable item (or fraction of it) until the knapsack is full."
   ]
  },
  {
   "cell_type": "markdown",
   "id": "81b8d9b7-e1f9-48a8-ac69-b0a2491e748d",
   "metadata": {},
   "source": [
    "# 2d Arrays Tricks"
   ]
  },
  {
   "cell_type": "code",
   "execution_count": 38,
   "id": "4859c2f9-9ad8-46ae-9b0d-e6fc8460fa63",
   "metadata": {},
   "outputs": [
    {
     "name": "stdout",
     "output_type": "stream",
     "text": [
      "[[0, 0, 0, 0, 0], [0, 0, 0, 0, 0], [0, 0, 0, 0, 0], [0, 0, 0, 0, 0], [0, 0, 0, 0, 0], [0, 0, 0, 0, 0]]\n"
     ]
    }
   ],
   "source": [
    "\n",
    "m = [[0 for row in range(5)] for col in range(6)]\n",
    "print(m)"
   ]
  },
  {
   "cell_type": "markdown",
   "id": "6c5cf508-1ca2-4ef2-bc1a-685319b93efb",
   "metadata": {},
   "source": [
    "# Randomness\n",
    "Note : The random module uses the pseudo - random."
   ]
  },
  {
   "cell_type": "code",
   "execution_count": 38,
   "id": "e00437bb-8ee8-4201-a96e-3e240030a214",
   "metadata": {},
   "outputs": [
    {
     "name": "stdout",
     "output_type": "stream",
     "text": [
      "7.0\n"
     ]
    }
   ],
   "source": [
    "import random\n",
    "import math\n",
    "result = math.sqrt(49)\n",
    "print(result)"
   ]
  },
  {
   "cell_type": "code",
   "execution_count": 13,
   "id": "737c671a-b7fa-4496-94a0-909592e538ed",
   "metadata": {},
   "outputs": [
    {
     "name": "stdout",
     "output_type": "stream",
     "text": [
      "The probability of heads is 5, and the probability of tails is 5\n"
     ]
    }
   ],
   "source": [
    "# Heads and Tails Probability. \n",
    "import random\n",
    "heads = 0\n",
    "tails = 0\n",
    "for i in range(10):\n",
    "    coin_flip = random.randint(1,2) # This method generates one random value each time between start and end\n",
    "    if coin_flip == 1:\n",
    "        heads = heads + 1\n",
    "    else:\n",
    "        tails = tails + 1\n",
    "print(f\"The probability of heads is {heads}, and the probability of tails is {tails}\")"
   ]
  },
  {
   "cell_type": "code",
   "execution_count": 14,
   "id": "2e5b6144-431c-4519-beb4-2603bd180d13",
   "metadata": {},
   "outputs": [
    {
     "name": "stdout",
     "output_type": "stream",
     "text": [
      "0.1718277016906511\n"
     ]
    }
   ],
   "source": [
    "random_function = random.random() # This method generates one random value between 0 and 1\n",
    "print(random_function)"
   ]
  },
  {
   "cell_type": "code",
   "execution_count": 17,
   "id": "03278311-abc0-4d0f-9fb5-d1f3473e3bdb",
   "metadata": {},
   "outputs": [
    {
     "name": "stdout",
     "output_type": "stream",
     "text": [
      "random array is [79 51 77 67 25 50 58 61 87 19]\n",
      "random array floats is [0.69240229 0.74868805 0.09776104 0.06455659 0.19171963 0.5598291\n",
      " 0.32706754 0.18159114 0.1119094  0.19117851]\n",
      "random array 2d is [[0.85651565 0.25529875 0.68277512 0.02191065 0.16304561]\n",
      " [0.19431117 0.84111826 0.9670987  0.3794438  0.75579922]\n",
      " [0.25976955 0.2574969  0.40572155 0.64803334 0.02495801]\n",
      " [0.84247587 0.93766925 0.71744705 0.91369997 0.50715048]\n",
      " [0.3262689  0.36841765 0.94490019 0.41440048 0.01239696]]\n",
      "random normal array is [ 0.09343339 -1.59034952  2.75864386  1.86485825 -1.13301875 -1.12609913\n",
      "  1.29665511  1.25811429 -2.64410269 -0.54189444]\n"
     ]
    }
   ],
   "source": [
    "# Randomness with Numpy\n",
    "import numpy as np\n",
    "random_array = np.random.randint(1,101,size = 10)\n",
    "random_array_floats = np.random.random(10)\n",
    "random_array_2d = np.random.random((5,5))\n",
    "random_normal_array = np.random.randn(10)\n",
    "print(f\"random array is {random_array}\")\n",
    "print(f\"random array floats is {random_array_floats}\")\n",
    "print(f\"random array 2d is {random_array_2d}\")\n",
    "print(f\"random normal array is {random_normal_array}\")"
   ]
  },
  {
   "cell_type": "markdown",
   "id": "f0481e68-d22c-4d1f-bfb7-17c10f3efb5a",
   "metadata": {},
   "source": [
    "# For Loop using Join"
   ]
  },
  {
   "cell_type": "code",
   "execution_count": 69,
   "id": "b7c7be20-1068-4d44-a583-90f48a981d14",
   "metadata": {},
   "outputs": [
    {
     "name": "stdout",
     "output_type": "stream",
     "text": [
      "[0, 1, 2, 3, 4, 5, 6, 7, 8, 9]\n",
      "[1, 6, 11, 16, 21, 26, 31, 36, 41, 46]\n",
      "[1, 2, 3, 4, 5, 6, 7, 8, 9, 10, 11, 12, 13, 14, 15, 16, 17, 18, 19]\n"
     ]
    }
   ],
   "source": [
    "first_arr = []\n",
    "second_arr = []\n",
    "third_arr = []\n",
    "for i in range(10):\n",
    "    first_arr.append(i)\n",
    "print(first_arr)\n",
    "for i in range(1,50,5):\n",
    "    second_arr.append(i)\n",
    "print(second_arr)\n",
    "for i in range(1,20):\n",
    "    third_arr.append(i)\n",
    "print(third_arr)"
   ]
  },
  {
   "cell_type": "code",
   "execution_count": 8,
   "id": "45ff4f67-d511-414c-9510-86e0cc70b577",
   "metadata": {},
   "outputs": [
    {
     "name": "stdout",
     "output_type": "stream",
     "text": [
      "0\n",
      "1\n",
      "2\n",
      "3\n",
      "4\n",
      "stop\n",
      "2\n",
      "3\n",
      "4\n",
      "stop\n",
      "5\n",
      "4\n",
      "3\n"
     ]
    }
   ],
   "source": [
    "for i in range(5):\n",
    "    print(i)\n",
    "print(\"stop\")\n",
    "for i in range(2,5):\n",
    "    print(i)\n",
    "print(\"stop\")\n",
    "# Start, end, step\n",
    "for i in range(5, 2,-1):\n",
    "    print(i)"
   ]
  },
  {
   "cell_type": "code",
   "execution_count": 19,
   "id": "f25b02e3-13ab-4e52-a656-b55d56b9ab98",
   "metadata": {},
   "outputs": [
    {
     "name": "stdout",
     "output_type": "stream",
     "text": [
      "1\n",
      "2\n",
      "3\n",
      "4\n",
      "5\n",
      "The start num is: 1, and the end num is: 2\n",
      "The start num is: 1, and the end num is: 2\n",
      "The start num is: 1, and the end num is: 2\n"
     ]
    }
   ],
   "source": [
    "A = [1,2,3,4,5]\n",
    "for num in A:\n",
    "    print(num)\n",
    "A = [[1,2],[1,2],[1,2]]\n",
    "for start, end in A:\n",
    "    print(f\"The start num is: {start}, and the end num is: {end}\")"
   ]
  },
  {
   "cell_type": "code",
   "execution_count": 98,
   "id": "4e886a2d-8fc6-4dc4-8b8c-c7fb5fe41c50",
   "metadata": {},
   "outputs": [
    {
     "name": "stdout",
     "output_type": "stream",
     "text": [
      "[2 5]\n"
     ]
    }
   ],
   "source": [
    "import numpy as np\n",
    "array_2d = np.array([[1,2,3],[4,5,6]])\n",
    "print(array_2d[:,1])"
   ]
  },
  {
   "cell_type": "markdown",
   "id": "93c8f905-6e7e-441c-87b2-1b1fe38044d8",
   "metadata": {},
   "source": [
    "# Lambda Functions\n",
    "\n",
    "## lambda arguments: expression\n"
   ]
  },
  {
   "cell_type": "code",
   "execution_count": 103,
   "id": "7811dcae-e351-4c9e-83cc-61040a15e3f3",
   "metadata": {},
   "outputs": [
    {
     "name": "stdout",
     "output_type": "stream",
     "text": [
      "11\n",
      "11\n",
      "11\n"
     ]
    }
   ],
   "source": [
    "def sum(a,b):\n",
    "    return a+b\n",
    "\n",
    "print(sum(5,6))\n",
    "add_lambda = lambda a,b: a+b\n",
    "print(add_lambda(5,6))\n",
    "\n",
    "added_numbers = lambda a,b: a+b\n",
    "print(added_numbers(5,6))"
   ]
  },
  {
   "cell_type": "markdown",
   "id": "341392f5-b068-4e8d-ae63-ce12a70dbe69",
   "metadata": {},
   "source": [
    "# Sorted, Map, and Filter Functions\n",
    "- sorted(iterable, key = , reverse = True or False)\n",
    "- map(function, iterable)\n",
    "- filter(function, iterable) # A function that takes an element as input and returns True or False. If None, it will filter out all values that are False"
   ]
  },
  {
   "cell_type": "code",
   "execution_count": 1,
   "id": "a3f06208-8af5-4cd2-b67f-b254db1ec63f",
   "metadata": {},
   "outputs": [
    {
     "name": "stdout",
     "output_type": "stream",
     "text": [
      "The squared of my list is: [0.0003052094346654711, 0.6811950052740614, 0.04886638891521448, 0.029102460513354047, 0.42398594697180064, 0.031815921522000454, 0.11050124318536912, 0.23241540051224413, 0.5464705988489057, 0.08134582212157361]\n",
      " The sort of my list is: [0.017470244264619517, 0.17059443283224118, 0.1783701811458419, 0.2210574335217309, 0.285211889867119, 0.33241727269407817, 0.48209480448584396, 0.6511420328713242, 0.739236497238134, 0.825345385444216]\n",
      " my list is: [0.01747024 0.82534539 0.22105743 0.17059443 0.65114203 0.17837018\n",
      " 0.33241727 0.4820948  0.7392365  0.28521189]\n"
     ]
    }
   ],
   "source": [
    "import numpy as np\n",
    "\n",
    "my_list = np.random.random(10)\n",
    "my_list_sorted = sorted(my_list)\n",
    "my_list_squared = list(map(lambda x: x**2,my_list))\n",
    "print(f\"The squared of my list is: {my_list_squared}\\n\", f\"The sort of my list is: {my_list_sorted}\\n\", f\"my list is: {my_list}\")"
   ]
  },
  {
   "cell_type": "code",
   "execution_count": 11,
   "id": "c6d0e53a-ab40-4794-abf6-79f1c2d481d1",
   "metadata": {},
   "outputs": [
    {
     "name": "stdout",
     "output_type": "stream",
     "text": [
      "[('Ahmad', 15), ('Hamza', 32), ('Mohammad', 25), ('Yahya', 16)] [('Ahmad', 15), ('Yahya', 16), ('Mohammad', 25), ('Hamza', 32)]\n",
      "[225, 625, 256, 1024]\n",
      "[('Yahya', 16), ('Hamza', 32)]\n"
     ]
    }
   ],
   "source": [
    "my_friends = {\"Ahmad\": 15, \"Mohammad\": 25, \"Yahya\": 16, \"Hamza\":32}\n",
    "sorted_my_friends = sorted(my_friends.items(), key = lambda x : x[0]) # Sorting based on the lexo of names\n",
    "sorted_my_friends2 = sorted(my_friends.items(), key = lambda x : x[1]) # Sorting based on age \n",
    "print(sorted_my_friends, sorted_my_friends2)\n",
    "map_my_friends = list(map(lambda x: x[1]**2, my_friends.items()))\n",
    "map_my_friends = list(map(lambda x: x[1]**2, my_friends.items())) \n",
    "print(map_my_friends)\n",
    "filtered_my_friends = list(filter(lambda x:x[1] % 2 == 0 ,my_friends.items()))\n",
    "print(filtered_my_friends)"
   ]
  },
  {
   "cell_type": "code",
   "execution_count": 15,
   "id": "b9b76ce3-9d0a-47ed-bcc8-8687e783f560",
   "metadata": {},
   "outputs": [
    {
     "name": "stdout",
     "output_type": "stream",
     "text": [
      "0\n",
      "This is odd number 1 and will terminate the loop\n"
     ]
    }
   ],
   "source": [
    "for i in range(5):\n",
    "    if i % 2 == 0:\n",
    "        print(i)\n",
    "        continue\n",
    "    else:\n",
    "        print(f\"This is odd number {i} and will terminate the loop\")\n",
    "        break"
   ]
  },
  {
   "cell_type": "code",
   "execution_count": 32,
   "id": "fa69f72f-d127-457f-a44a-0848e330edfe",
   "metadata": {},
   "outputs": [
    {
     "name": "stdin",
     "output_type": "stream",
     "text": [
      "enter you name:  5\n"
     ]
    },
    {
     "ename": "TypeError",
     "evalue": "unsupported operand type(s) for +: 'int' and 'str'",
     "output_type": "error",
     "traceback": [
      "\u001b[1;31m---------------------------------------------------------------------------\u001b[0m",
      "\u001b[1;31mTypeError\u001b[0m                                 Traceback (most recent call last)",
      "Cell \u001b[1;32mIn[32], line 5\u001b[0m\n\u001b[0;32m      3\u001b[0m a \u001b[38;5;241m=\u001b[39m \u001b[38;5;241m123\u001b[39m\n\u001b[0;32m      4\u001b[0m b \u001b[38;5;241m=\u001b[39m \u001b[38;5;28mstr\u001b[39m(a)\n\u001b[1;32m----> 5\u001b[0m \u001b[38;5;28mprint\u001b[39m(\u001b[38;5;28mtype\u001b[39m(b), a \u001b[38;5;241m+\u001b[39m name)\n",
      "\u001b[1;31mTypeError\u001b[0m: unsupported operand type(s) for +: 'int' and 'str'"
     ]
    }
   ],
   "source": [
    "name = input(\"enter you name: \")\n",
    "\n",
    "a = 123\n",
    "b = str(a)\n",
    "print(type(b), a + name)"
   ]
  },
  {
   "cell_type": "code",
   "execution_count": 41,
   "id": "5ed14a65-f868-44fc-a7aa-6498a5c5c653",
   "metadata": {},
   "outputs": [
    {
     "name": "stdout",
     "output_type": "stream",
     "text": [
      "The max number is 5 and the min number is 0 and the number of elements is 5 and the sum is 15\n",
      "Blastoff!\n"
     ]
    }
   ],
   "source": [
    "max = 0\n",
    "min = 0\n",
    "count = 0\n",
    "sum = 0\n",
    "for i in [1,2,3,4,5]:\n",
    "    if max < i:\n",
    "        max = i\n",
    "        sum += i\n",
    "        count += 1\n",
    "    elif min > i:\n",
    "        min = i\n",
    "        count += 1\n",
    "        sum += i\n",
    "        \n",
    "print(f\"The max number is {max} and the min number is {min} and the number of elements is {count} and the sum is {sum}\")\n",
    "print(\"Blastoff!\")"
   ]
  },
  {
   "cell_type": "code",
   "execution_count": 45,
   "id": "6af406ac-4895-4822-81d3-7397034f5d52",
   "metadata": {},
   "outputs": [
    {
     "name": "stdout",
     "output_type": "stream",
     "text": [
      "This number 43 is bigger than the previous number!\n",
      "This number 644 is bigger than the previous number!\n",
      "the largest value is 644\n"
     ]
    }
   ],
   "source": [
    "# The search Problem\n",
    "numbers = [1,43,5,23,644,8]\n",
    "# large = numbers[0]\n",
    "large = None\n",
    "for value in numbers:\n",
    "    if large is None:\n",
    "        large = value\n",
    "    elif value > large:\n",
    "        print(f\"This number {value} is bigger than the previous number!\")\n",
    "        large = value\n",
    "print(f\"the largest value is {large}\")"
   ]
  },
  {
   "cell_type": "code",
   "execution_count": 36,
   "id": "391a2c5a-2c5d-4be9-aff7-68d5ee5ff0f6",
   "metadata": {},
   "outputs": [
    {
     "name": "stdout",
     "output_type": "stream",
     "text": [
      "Ahmad\n",
      "Mohammad\n",
      "Hossam\n",
      "Manar\n",
      "Hatsoff!\n"
     ]
    }
   ],
   "source": [
    "friends = [\"Ahmad\", \"Mohammad\", \"Hossam\", \"Manar\"]\n",
    "for friend in friends:\n",
    "    print(friend)\n",
    "print(\"Hatsoff!\")"
   ]
  },
  {
   "cell_type": "code",
   "execution_count": 55,
   "id": "a03b69dc-5728-45a0-a1a8-c6ccdadfb4d1",
   "metadata": {},
   "outputs": [
    {
     "name": "stdout",
     "output_type": "stream",
     "text": [
      "2\n",
      "4\n",
      "Hellx Wxrld\n",
      "Hello World\n"
     ]
    }
   ],
   "source": [
    "stuff = \"Hello World\"\n",
    "# dir(stuff)\n",
    "print(stuff.count(\"o\"))\n",
    "print(stuff.find(\"o\"))\n",
    "print(stuff.replace(\"o\", \"x\"))\n",
    "print(stuff)"
   ]
  },
  {
   "cell_type": "code",
   "execution_count": 21,
   "id": "1f8b9d67-f3e3-45eb-9f31-4925f88c80ef",
   "metadata": {},
   "outputs": [
    {
     "name": "stdout",
     "output_type": "stream",
     "text": [
      "28\n",
      "['Ahmad', 'Mohammad', 'Ali', 'Arwa', 'Vida']\n",
      "5\n",
      "['Ahmad', 'Moe', 'Ali', 'Arwa', 'Vida']\n"
     ]
    }
   ],
   "source": [
    "# Split method\n",
    "abc = \"Ahmad,Mohammad,Ali,Arwa,Vida\"\n",
    "print(len(abc))\n",
    "friends = abc.split(\",\") # This method will return a list of elements\n",
    "print(friends)\n",
    "print(len(friends))\n",
    "friends [1] = \"Moe\"\n",
    "print(friends)"
   ]
  },
  {
   "cell_type": "code",
   "execution_count": 22,
   "id": "1909982b-ab64-4506-92fb-18e0266d06b1",
   "metadata": {},
   "outputs": [],
   "source": [
    "fruit = \"Banana\"\n",
    "# fruit = fruit.replace('B','b')\n",
    "\n",
    "if fruit.startswith(\"b\"):\n",
    "    print(\"true\")"
   ]
  },
  {
   "cell_type": "code",
   "execution_count": 34,
   "id": "a1d07f51-3dec-4703-8c3e-3ca36b163c38",
   "metadata": {},
   "outputs": [
    {
     "name": "stdout",
     "output_type": "stream",
     "text": [
      "{'Mohammad': 0, 'Ahmad': 0, 'Ali': 0, 'Vida': 0}\n",
      "1\n",
      "1\n",
      "1\n",
      "1\n",
      "1\n",
      "{'Mohammad': 0, 'Ahmad': 0, 'Ali': 0, 'Vida': 0}\n",
      "{'Mohammad': 2, 'Ahmad': 1, 'Ali': 1, 'Vida': 1}\n",
      "dict_values([2, 1, 1, 1])\n"
     ]
    }
   ],
   "source": [
    "names = \"Mohammad,Ahmad,Ali,Vida,Mohammad\"\n",
    "names_lst = names.split(\",\")\n",
    "names_dict = {}\n",
    "counts = {}\n",
    "for name in names_lst:\n",
    "    names_dict[name] = 0\n",
    "print(names_dict)\n",
    "for name in names_lst:\n",
    "    print(names_dict.get(\"Arwa\", 1))\n",
    "\n",
    "print(names_dict)\n",
    "\n",
    "# Now let's solve the counting problem: very important\n",
    "for name in names_lst:\n",
    "    counts[name] = counts.get(name, 0) + 1\n",
    "print(counts)\n",
    "print(counts.values())"
   ]
  },
  {
   "cell_type": "markdown",
   "id": "67df875a-7386-4fcb-a24c-182ee2042075",
   "metadata": {},
   "source": [
    "# Classes Tutorial"
   ]
  },
  {
   "cell_type": "code",
   "execution_count": 4,
   "id": "9a85e871-9977-437e-9158-30a7d165f7f4",
   "metadata": {},
   "outputs": [
    {
     "name": "stdout",
     "output_type": "stream",
     "text": [
      "Toyota has a color of Grey\n",
      "Toyota has a color of Grey\n"
     ]
    }
   ],
   "source": [
    "class Car:\n",
    "    def __init__(self, shape, color):\n",
    "        self.shape = shape\n",
    "        self.color = color\n",
    "        print(f\"{self.shape} has a color of {self.color}\")\n",
    "    def display_info(self):\n",
    "        print(f\"{self.shape} has a color of {self.color}\")\n",
    "my_car = Car(\"Toyota\", \"Grey\")\n",
    "my_car.display_info()"
   ]
  },
  {
   "cell_type": "markdown",
   "id": "1ec4855c-2c19-4597-8419-ce4de8b160c1",
   "metadata": {},
   "source": [
    "# Linked Lists Tutorial"
   ]
  },
  {
   "cell_type": "code",
   "execution_count": 1,
   "id": "4d38cf3b-bdf6-4e98-8222-468eccd8ab7e",
   "metadata": {},
   "outputs": [
    {
     "name": "stdout",
     "output_type": "stream",
     "text": [
      "11\n",
      "5->10->15->None\n",
      "15->10->5->None\n",
      "True\n"
     ]
    }
   ],
   "source": [
    "# Function\n",
    "def sum(a,b):\n",
    "    # return(a+b)\n",
    "    print(a+b)\n",
    "a = 5\n",
    "b = 6\n",
    "# print(sum(a,b))\n",
    "sum(a,b)\n",
    "# Class\n",
    "class Node:\n",
    "    def __init__(self,data):\n",
    "        self.data = data\n",
    "        self.next = None\n",
    "class LinkedList:\n",
    "    def __init__(self):\n",
    "        self.head = None\n",
    "    \n",
    "    def append(self, data):\n",
    "        new_node = Node(data)\n",
    "        if not self.head:\n",
    "            self.head = new_node\n",
    "            return\n",
    "        last = self.head\n",
    "        while last.next:\n",
    "            last = last.next\n",
    "        last.next = new_node\n",
    "# 1. Reverse a Linked List (⭐ Fundamental)\n",
    "    #O(n) and O(1) for space\n",
    "    # def reverse(self): \n",
    "    #     prev = None\n",
    "    #     current = self.head\n",
    "    #     while current:\n",
    "    #         next = current.next\n",
    "    #         current.next = prev # reversing the list\n",
    "    #         prev = current\n",
    "    #         current = next\n",
    "    #     self.head = prev\n",
    "    def reverse_recursive(self, node):\n",
    "        if not node or not node.next:\n",
    "            self.head = node  # Set new head\n",
    "            return node\n",
    "        new_head = self.reverse_recursive(node.next)  # Reverse the rest\n",
    "        node.next.next = node  # Reverse the link\n",
    "        node.next = None  # Break the old link\n",
    "        return new_head\n",
    "\n",
    "    def reverse(self):\n",
    "        self.reverse_recursive(self.head)\n",
    "# 2. Detect a Cycle in a Linked List (Floyd’s Cycle Detection Algorithm) (⭐ Important)\n",
    "    def detect_cycle(self):\n",
    "        slow = self.head\n",
    "        fast = self.head\n",
    "        \n",
    "        while fast and fast.next:\n",
    "            slow = slow.next         # Move one step\n",
    "            fast = fast.next.next    # Move two steps\n",
    "            \n",
    "            if slow == fast:\n",
    "                return True  # Cycle detected\n",
    "        \n",
    "        return False  \n",
    "# 3. \"Merge Two Sorted Linked Lists (⭐ Common Interview Question) Problem:\n",
    "    def merge_sorted(self, list2):\n",
    "        dummy = Node(0)\n",
    "        tail = dummy\n",
    "        list1 = self.head\n",
    "        list2 = list2.head\n",
    "        while list1 and list2:\n",
    "            if list1.data > list2.data:\n",
    "                tail.next = list1\n",
    "                list1 = list1.next\n",
    "            else : \n",
    "                tail.next = list2\n",
    "                list2 = list2.next\n",
    "            tail = tail.next\n",
    "        # To append the rest\n",
    "        if list1:\n",
    "            tail.next = list1\n",
    "        elif list2: \n",
    "            tail.next = list2\n",
    "        # Return the merged list starting from the node after the dummy node\n",
    "        \n",
    "        self.head = dummy.next\n",
    "        \n",
    "    def display(self):\n",
    "        current = self.head\n",
    "        while current:\n",
    "            print(current.data,end =  \"->\")\n",
    "            current = current.next\n",
    "        print(\"None\")\n",
    "linked_list = LinkedList()\n",
    "linked_list.append(5)\n",
    "linked_list.append(10)\n",
    "linked_list.append(15)\n",
    "linked_list.display()\n",
    "linked_list.reverse()\n",
    "linked_list.display()\n",
    "linked_list.head.next.next = linked_list.head.next  # -4 points to 2\n",
    "\n",
    "print(linked_list.detect_cycle())  # Output: True (Cycle detected)        \n",
    "    "
   ]
  },
  {
   "cell_type": "code",
   "execution_count": 10,
   "id": "79e0f680-462b-4e23-bf7a-c64fcfe8fa08",
   "metadata": {},
   "outputs": [
    {
     "name": "stdout",
     "output_type": "stream",
     "text": [
      "List 1:\n",
      "-1 -> -3 -> 5 -> None\n",
      "List 2:\n",
      "2 -> 4 -> 6 -> None\n",
      "None\n",
      "Merged Sorted List:\n",
      "-1 -> -3 -> 2 -> 4 -> 5 -> 6 -> None\n"
     ]
    }
   ],
   "source": [
    "class LinkedList:\n",
    "    def __init__(self):\n",
    "        self.head = None\n",
    "    \n",
    "    def append(self, data):\n",
    "        new_node = Node(data)\n",
    "        if not self.head:\n",
    "            self.head = new_node\n",
    "            return\n",
    "        last = self.head\n",
    "        while last.next:\n",
    "            last = last.next\n",
    "        last.next = new_node\n",
    "\n",
    "    def merge_sorted(self, list2):\n",
    "        dummy = Node(10)  # Dummy node to simplify merging logic\n",
    "        tail = dummy\n",
    "        print(tail.next)\n",
    "        list1 = self.head\n",
    "        list2 = list2.head\n",
    "        \n",
    "        while list1 and list2:\n",
    "            if list1.data < list2.data:  # Compare values, not objects\n",
    "                tail.next = list1\n",
    "                list1 = list1.next\n",
    "            else:\n",
    "                tail.next = list2\n",
    "                list2 = list2.next\n",
    "            tail = tail.next\n",
    "        \n",
    "        # Attach the remaining nodes\n",
    "        if list1:\n",
    "            tail.next = list1\n",
    "        elif list2:\n",
    "            tail.next = list2\n",
    "        \n",
    "        self.head = dummy.next  # Update head to the merged list\n",
    "    \n",
    "    def display(self):\n",
    "        current = self.head\n",
    "        while current:\n",
    "            print(current.data, end=\" -> \")\n",
    "            current = current.next\n",
    "        print(\"None\")\n",
    "\n",
    "# ---- Example Usage ----\n",
    "list1 = LinkedList()\n",
    "list1.append(-1)\n",
    "list1.append(-3)\n",
    "list1.append(5)\n",
    "\n",
    "list2 = LinkedList()\n",
    "list2.append(2)\n",
    "list2.append(4)\n",
    "list2.append(6)\n",
    "\n",
    "print(\"List 1:\")\n",
    "list1.display()\n",
    "print(\"List 2:\")\n",
    "list2.display()\n",
    "\n",
    "# Merge list2 into list1\n",
    "list1.merge_sorted(list2)\n",
    "\n",
    "print(\"Merged Sorted List:\")\n",
    "list1.display()\n"
   ]
  },
  {
   "cell_type": "code",
   "execution_count": 7,
   "id": "13137459-6cee-4188-b6c4-2131787daf7a",
   "metadata": {},
   "outputs": [
    {
     "name": "stdout",
     "output_type": "stream",
     "text": [
      "10 -> 20 -> 30 -> None\n"
     ]
    }
   ],
   "source": [
    "# Define a Node class\n",
    "class Node:\n",
    "    def __init__(self, data):\n",
    "        self.data = data  # Store data in the node\n",
    "        self.next = None  # Pointer to the next node, initially set to None\n",
    "\n",
    "# Define a LinkedList class\n",
    "class LinkedList:\n",
    "    def __init__(self):\n",
    "        self.head = None  # The list starts with no elements (head is None)\n",
    "\n",
    "    def append(self, data):\n",
    "        new_node = Node(data)  # Create a new node with the given data\n",
    "        if not self.head:\n",
    "            self.head = new_node  # If the list is empty, the new node becomes the head\n",
    "            return\n",
    "        last = self.head\n",
    "        while last.next:  # Traverse to the last node\n",
    "            last = last.next\n",
    "        last.next = new_node  # Set the last node's next pointer to the new node\n",
    "\n",
    "    def display(self):\n",
    "        current = self.head  # Start from the head of the list\n",
    "        while current:\n",
    "            print(current.data, end=\" -> \")  # Print the current node's data\n",
    "            current = current.next  # Move to the next node\n",
    "        print(\"None\")  # Indicate the end of the list\n",
    "\n",
    "# Example usage\n",
    "linked_list = LinkedList()\n",
    "linked_list.append(10)\n",
    "linked_list.append(20)\n",
    "linked_list.append(30)\n",
    "linked_list.display()  # Output: 10 -> 20 -> 30 -> None\n"
   ]
  },
  {
   "cell_type": "markdown",
   "id": "834a19c0-80cb-4700-8073-594adcb32c8e",
   "metadata": {},
   "source": [
    "# Stack"
   ]
  },
  {
   "cell_type": "code",
   "execution_count": 10,
   "id": "b687a348-826d-41a3-9769-bbf30833da98",
   "metadata": {},
   "outputs": [
    {
     "name": "stdout",
     "output_type": "stream",
     "text": [
      "Stack: deque([10, 20, 30])\n",
      "Popped item: 30\n",
      "Stack after pop: deque([10, 20])\n",
      "Top item: 20\n",
      "Is the stack empty? False\n"
     ]
    }
   ],
   "source": [
    "from collections import deque\n",
    "\n",
    "# Create a stack using deque\n",
    "stack = deque()\n",
    "\n",
    "# Push items to the stack\n",
    "stack.append(10)\n",
    "stack.append(20)\n",
    "stack.append(30)\n",
    "\n",
    "print(\"Stack:\", stack)  # Output: Stack: deque([10, 20, 30])\n",
    "\n",
    "# Pop an item from the stack\n",
    "top_item = stack.pop()\n",
    "print(\"Popped item:\", top_item)  # Output: Popped item: 30\n",
    "\n",
    "print(\"Stack after pop:\", stack)  # Output: Stack after pop: deque([10, 20])\n",
    "\n",
    "# Peek the top item (without popping)\n",
    "top_item = stack[-1]\n",
    "print(\"Top item:\", top_item)  # Output: Top item: 20\n",
    "\n",
    "# Check if the stack is empty\n",
    "print(\"Is the stack empty?\", len(stack) == 0)  # Output: Is the stack empty? False\n"
   ]
  },
  {
   "cell_type": "markdown",
   "id": "a196da1c-036d-42d2-a555-8f11937cfb62",
   "metadata": {},
   "source": [
    "# Dictionary"
   ]
  },
  {
   "cell_type": "code",
   "execution_count": 32,
   "id": "d5170293-1d79-43b4-b224-91e207b8838d",
   "metadata": {},
   "outputs": [
    {
     "name": "stdout",
     "output_type": "stream",
     "text": [
      "True\n",
      "True\n"
     ]
    }
   ],
   "source": [
    "# Brute Force Solution\n",
    "def check_sum_brute_force(a, target):\n",
    "    n = len(a)\n",
    "    for i in range(n):\n",
    "        for j in range(i+1, n):  # j starts from i+1 to avoid repeating pairs & self-pairing\n",
    "            if a[i] + a[j] == target:\n",
    "                return True\n",
    "    return False\n",
    "\n",
    "# Usage Example\n",
    "a = [3,1,4,2,6,9]\n",
    "target = 4\n",
    "print(check_sum_brute_force(a, target))  # Output: True (1+3)\n",
    "\n",
    "def check_sum(a, target):\n",
    "    d = {}\n",
    "    for i in a:\n",
    "        if(target-i) in d:\n",
    "            return True\n",
    "        else:\n",
    "            d[i] = i\n",
    "    return False\n",
    "a = [3,1,4,2,6,9]\n",
    "target = 4\n",
    "print(check_sum(a, target))"
   ]
  },
  {
   "cell_type": "code",
   "execution_count": 31,
   "id": "a21ebf8d-058a-4ad6-aa10-ff10eb01c5ab",
   "metadata": {},
   "outputs": [
    {
     "name": "stdout",
     "output_type": "stream",
     "text": [
      "The pair that sums up to 9 is: (3, 6)\n"
     ]
    }
   ],
   "source": [
    "def check_sum(a, target):\n",
    "    d = {}\n",
    "    for i in a:\n",
    "        if (target - i) in d:\n",
    "            return (target - i, i)  # Return the pair of numbers\n",
    "        else:\n",
    "            d[i] = i\n",
    "    return None  # Return None if no pair is found\n",
    "\n",
    "a = [3, 1, 4, 2, 6, 9]\n",
    "target = 9\n",
    "result = check_sum(a, target)\n",
    "\n",
    "if result:\n",
    "    print(f\"The pair that sums up to {target} is: {result}\")\n",
    "else:\n",
    "    print(f\"No pair found that sums up to {target}\")\n"
   ]
  },
  {
   "cell_type": "code",
   "execution_count": 15,
   "id": "7f05cfe3-bd8e-4b8c-b5b1-c62acd5fa189",
   "metadata": {},
   "outputs": [
    {
     "name": "stdout",
     "output_type": "stream",
     "text": [
      "[5, 6, 7]\n",
      "[5, 6]\n",
      "6\n",
      "deque([5, 10, 15])\n",
      "15\n",
      "deque([5, 10])\n",
      "deque([5])\n",
      "5\n",
      "5\n"
     ]
    }
   ],
   "source": [
    "from collections import deque\n",
    "a = []\n",
    "a.append(5)\n",
    "a.append(6)\n",
    "a.append(7)\n",
    "print(a)\n",
    "a.pop()\n",
    "print(a)\n",
    "print(a.pop())\n",
    "b = deque()\n",
    "b.append(5)\n",
    "b.append(10)\n",
    "b.append(15)\n",
    "print(b)\n",
    "print(b.pop())\n",
    "print(b)\n",
    "b.pop()\n",
    "print(b)\n",
    "print(a[0])\n",
    "print(b[-1])"
   ]
  },
  {
   "cell_type": "code",
   "execution_count": 33,
   "id": "a677e5fa-b579-4265-9c86-c8e42dc37af6",
   "metadata": {},
   "outputs": [
    {
     "name": "stdout",
     "output_type": "stream",
     "text": [
      "{0: (4, 2), 1: (5, 1)}\n"
     ]
    }
   ],
   "source": [
    "# Important\n",
    "def check_sum(a, target):\n",
    "    d = {}\n",
    "    n = {}\n",
    "    s = 0\n",
    "    for i in a:\n",
    "        complement = target - i\n",
    "        if complement in d:\n",
    "            n[s] = (i, complement)\n",
    "            s += 1\n",
    "        d[i] = i\n",
    "    if n == {}:\n",
    "        return False\n",
    "    return n\n",
    "a = [1,2,3,4,5,6]\n",
    "target = 6\n",
    "print(check_sum(a,target))"
   ]
  },
  {
   "cell_type": "markdown",
   "id": "b8f90bd1-0afe-4fa1-98fd-d2df0cbe1c7a",
   "metadata": {},
   "source": [
    "# Graphs Tutorial\n",
    "- Adjacancy List\n",
    "- Breadth First Search (BFS)\n",
    "- Depth First Search (DFS) >> All about recursion!! Very important"
   ]
  },
  {
   "cell_type": "code",
   "execution_count": 9,
   "id": "324483d9-8f74-4b8c-8322-eae14ccca4a5",
   "metadata": {},
   "outputs": [
    {
     "name": "stdout",
     "output_type": "stream",
     "text": [
      "defaultdict(<class 'list'>, {'Ahmad': ['Carla'], 'Carla': ['Ahmad', 'Dody', 'Basil'], 'Basil': ['Carla'], 'Dody': ['Carla']})\n"
     ]
    }
   ],
   "source": [
    "from collections import defaultdict\n",
    "class graph():\n",
    "    def __init__(self):\n",
    "        self.graph = defaultdict(list)\n",
    "    def add_edge(self, u, v):\n",
    "        self.graph[u].append(v)\n",
    "    def print_graph(self):\n",
    "        return self.graph\n",
    "# Usage Example\n",
    "graph = graph()\n",
    "graph.add_edge(\"Ahmad\", \"Carla\")\n",
    "graph.add_edge(\"Carla\", \"Ahmad\")\n",
    "graph.add_edge(\"Carla\", \"Dody\")\n",
    "graph.add_edge(\"Carla\", \"Basil\")\n",
    "graph.add_edge(\"Basil\", \"Carla\")\n",
    "graph.add_edge(\"Dody\", \"Carla\")\n",
    "\n",
    "print(graph.print_graph())"
   ]
  },
  {
   "cell_type": "code",
   "execution_count": 17,
   "id": "2cfac500-9af0-4091-aa3c-d15530401bc3",
   "metadata": {},
   "outputs": [
    {
     "name": "stdout",
     "output_type": "stream",
     "text": [
      "BFS Traversal:\n"
     ]
    },
    {
     "data": {
      "text/plain": [
       "{0, 1, 2, 3, 4, 5}"
      ]
     },
     "execution_count": 17,
     "metadata": {},
     "output_type": "execute_result"
    }
   ],
   "source": [
    "from collections import defaultdict, deque\n",
    "def bfs(graph, start):\n",
    "    seen = set()\n",
    "    queue = deque([start])\n",
    "    while queue:\n",
    "        node = queue.popleft()\n",
    "        if node not in seen:\n",
    "            seen.add(node)\n",
    "            queue.extend(graph[node])\n",
    "    return seen\n",
    "        \n",
    "# Define the graph as an adjacency list\n",
    "graph = defaultdict(list)\n",
    "# graph = {}\n",
    "graph[0] = [1, 2]\n",
    "graph[1] = [2, 3]\n",
    "graph[2] = [4]\n",
    "graph[3] = [4, 5]\n",
    "graph[4] = [5]\n",
    "graph[5] = []\n",
    "\n",
    "# Perform BFS starting from node 0\n",
    "print(\"BFS Traversal:\")\n",
    "bfs(graph, 0)\n"
   ]
  },
  {
   "cell_type": "code",
   "execution_count": 45,
   "id": "ba41e0fd-7773-490e-943a-4260ec5a695c",
   "metadata": {},
   "outputs": [
    {
     "name": "stdout",
     "output_type": "stream",
     "text": [
      "DFS Traversal:\n",
      "0\n",
      "1\n",
      "2\n",
      "4\n",
      "5\n",
      "3\n"
     ]
    },
    {
     "data": {
      "text/plain": [
       "{0, 1, 2, 3, 4, 5}"
      ]
     },
     "execution_count": 45,
     "metadata": {},
     "output_type": "execute_result"
    }
   ],
   "source": [
    "graph = defaultdict(list)\n",
    "# def dfs(graph, node, visited = set()):\n",
    "#     if node not in visited:\n",
    "#         print(node)\n",
    "#         visited.add(node)\n",
    "#         for neighbor in graph[node]:\n",
    "#             bfs(graph, neighbor, visited)\n",
    "#     return visited\n",
    "def dfs(graph, node, visited=set()):\n",
    "    if node not in visited:\n",
    "        print(node)\n",
    "        visited.add(node)\n",
    "        for neighbor in graph[node]:\n",
    "            dfs(graph, neighbor, visited)\n",
    "    return visited\n",
    "\n",
    "# graph = {}\n",
    "graph[0] = [1, 2]\n",
    "graph[1] = [2, 3]\n",
    "graph[2] = [4]\n",
    "graph[3] = [4, 5]\n",
    "graph[4] = [5]\n",
    "graph[5] = []\n",
    "\n",
    "# Perform BFS starting from node 0\n",
    "print(\"DFS Traversal:\")\n",
    "dfs(graph, 0)"
   ]
  },
  {
   "cell_type": "markdown",
   "id": "76c2dfe3-248f-47f7-bad8-9454a9812abd",
   "metadata": {},
   "source": [
    "# Stacks and Queues Practice\n",
    "## 1. Balanced Parentheses:\n",
    "\n",
    "    Task: Check if a string containing different types of parentheses ((), {}, []) is balanced.\n",
    "    Approach: Use a stack to push opening brackets and pop them when encountering matching closing brackets.\n",
    "## 2. Undo Functionality:\n",
    "\n",
    "    Task: Simulate undo functionality in a text editor.\n",
    "    Approach: Use a stack to store previous states and allow users to undo by popping from the stack.\n",
    "## 3. Reverse a String:\n",
    "\n",
    "    Task: Reverse a string using a stack.\n",
    "    Approach: Push each character onto the stack and then pop them to reverse the order."
   ]
  },
  {
   "cell_type": "code",
   "execution_count": 85,
   "id": "f9c2be96-be0b-44d8-8456-96ab99aad3e2",
   "metadata": {},
   "outputs": [
    {
     "name": "stdout",
     "output_type": "stream",
     "text": [
      "True\n",
      "Hello\n",
      "olleH\n"
     ]
    }
   ],
   "source": [
    "# 1. Balanced Parentheses\n",
    "def check_balance(string):\n",
    "    stack = [] #We're using stacks to take advantage of the pop operation, to store starting paranthesis (LIFO)\n",
    "    matching_pairs = {\"}\" : \"{\", \")\" : \"(\" , \"]\" : \"[\"}\n",
    "    for char in string:\n",
    "        if char in matching_pairs.values():\n",
    "            stack.append(char)\n",
    "        elif char in matching_pairs.keys():\n",
    "            if stack == [] or matching_pairs[char] != stack.pop():\n",
    "                return false\n",
    "    return stack == []\n",
    "# Example\n",
    "string = \"(){}[]\"\n",
    "print(check_balance(string))\n",
    "\n",
    "# 2. Undo Functionality\n",
    "class TextEditor:\n",
    "    def __init__(self):\n",
    "        self.text = \"\"\n",
    "        self.history = []\n",
    "\n",
    "    def write(self, text):\n",
    "        self.history.append(self.text)\n",
    "        self.text += text\n",
    "\n",
    "    def undo(self):\n",
    "        if self.history:\n",
    "            self.text = self.history.pop()\n",
    "            print(self.text)\n",
    "\n",
    "editor = TextEditor()\n",
    "editor.write(\"Hello\")\n",
    "editor.write(\" World!\")\n",
    "editor.undo()  # Undo the last write\n",
    "\n",
    "# 3. Reverse a String (Important)\n",
    "def reverse(string):\n",
    "    stack = list(string)\n",
    "    reverse = \"\" .join(stack.pop() for _ in range(len(stack)))\n",
    "    return reverse\n",
    "string = \"Hello\"\n",
    "print(reverse(string))"
   ]
  },
  {
   "cell_type": "markdown",
   "id": "3602e232-39b0-4969-add1-9c0fdfa8f622",
   "metadata": {},
   "source": [
    "# Queue Tutorial\n"
   ]
  },
  {
   "cell_type": "code",
   "execution_count": 87,
   "id": "adda4635-0e19-459d-b22b-986035da2d4b",
   "metadata": {},
   "outputs": [
    {
     "name": "stdout",
     "output_type": "stream",
     "text": [
      "BFS Traversal Starting from Node 'A':\n",
      "A B C D E F "
     ]
    }
   ],
   "source": [
    "from collections import deque\n",
    "\n",
    "def bfs(graph, start):\n",
    "    visited = set()  # To keep track of visited nodes\n",
    "    queue = deque([start])  # Initialize queue with the start node\n",
    "    \n",
    "    while queue:\n",
    "        node = queue.popleft()  # Dequeue a node from the front\n",
    "        if node not in visited:\n",
    "            visited.add(node)  # Mark node as visited\n",
    "            print(node, end=\" \")  # Process the node (print it in this case)\n",
    "            \n",
    "            # Enqueue all unvisited neighbors\n",
    "            for neighbor in graph[node]:\n",
    "                queue.append(neighbor)\n",
    "\n",
    "# Example usage\n",
    "graph = {\n",
    "    'A': ['B', 'C'],\n",
    "    'B': ['D', 'E'],\n",
    "    'C': ['F'],\n",
    "    'D': [],\n",
    "    'E': [],\n",
    "    'F': []\n",
    "}\n",
    "\n",
    "print(\"BFS Traversal Starting from Node 'A':\")\n",
    "bfs(graph, 'A')\n"
   ]
  },
  {
   "cell_type": "code",
   "execution_count": 90,
   "id": "b9d1ca78-c2a3-442c-bd16-104add0f1343",
   "metadata": {},
   "outputs": [
    {
     "name": "stdout",
     "output_type": "stream",
     "text": [
      "ABCDEFG"
     ]
    }
   ],
   "source": [
    "from collections import deque\n",
    "def bfs(graph, start):\n",
    "    visited = set()\n",
    "    queue = deque([start])\n",
    "    while queue:\n",
    "        node = queue.popleft()\n",
    "        if node not in visited:\n",
    "            visited.add(node)\n",
    "            print(node, end = \"\")\n",
    "            for neighbor in graph[node]:\n",
    "                queue.append(neighbor)\n",
    "graph = {\n",
    "    \"A\" : [\"B\" , \"C\"],\n",
    "    \"B\" : [\"D\" , \"E\"],\n",
    "    \"C\" : [\"F\" , \"G\"],\n",
    "    \"D\" : [],\n",
    "    \"E\" : [],\n",
    "    \"F\" : [],\n",
    "    \"G\" : []\n",
    "}\n",
    "start = \"A\"\n",
    "bfs(graph, start)"
   ]
  },
  {
   "cell_type": "markdown",
   "id": "98a9f87f-99ed-41f4-a927-b962220911ce",
   "metadata": {},
   "source": [
    "# Task Scheduling (Round Robin) using Queue"
   ]
  },
  {
   "cell_type": "code",
   "execution_count": 35,
   "id": "5e7f7b85-083e-459c-a49f-e4c4d63548aa",
   "metadata": {},
   "outputs": [
    {
     "name": "stdout",
     "output_type": "stream",
     "text": [
      "Round Robin Task Scheduling:\n",
      "deque([('task1', 5), ('task2', 3), ('task3', 8)])\n",
      "Processing task1 for 2 units.\n",
      "Processing task2 for 2 units.\n",
      "Processing task3 for 2 units.\n",
      "Processing task1 for 2 units.\n",
      "Processing task2 for 1 units.\n",
      "task2 is finished.\n",
      "Processing task3 for 2 units.\n",
      "Processing task1 for 1 units.\n",
      "task1 is finished.\n",
      "Processing task3 for 2 units.\n",
      "Processing task3 for 2 units.\n",
      "task3 is finished.\n"
     ]
    }
   ],
   "source": [
    "from collections import deque\n",
    "\n",
    "def round_robin(tasks, time_slice):\n",
    "    queue = deque(tasks)  # Initialize the queue with the tasks\n",
    "    print(queue)\n",
    "    while queue:\n",
    "        task, duration = queue.popleft()  # Get the next task and its remaining duration\n",
    "        print(f\"Processing {task} for {min(duration, time_slice)} units.\")\n",
    "        \n",
    "        # If the task is not finished, reduce its duration and put it back in the queue\n",
    "        if duration > time_slice:\n",
    "            queue.append((task, duration - time_slice))\n",
    "        else:\n",
    "            print(f\"{task} is finished.\")\n",
    "\n",
    "# Example usage\n",
    "tasks = [('task1', 5), ('task2', 3), ('task3', 8)]  # (task_name, remaining_duration)\n",
    "time_slice = 2  # Time slice for each task\n",
    "\n",
    "print(\"Round Robin Task Scheduling:\")\n",
    "round_robin(tasks, time_slice)\n"
   ]
  },
  {
   "cell_type": "markdown",
   "id": "9e71dd76-fad3-4f36-be80-fdaf2405e05e",
   "metadata": {},
   "source": [
    "# Customer Service Simulation: using Queue\n",
    "\n",
    "    Task: Simulate a customer service queue where customers are served in the order they arrive.\n",
    "    Approach: Use a queue to manage customers waiting for service."
   ]
  },
  {
   "cell_type": "code",
   "execution_count": 36,
   "id": "93770f03-6229-402a-8bff-64454a239bf8",
   "metadata": {},
   "outputs": [
    {
     "name": "stdout",
     "output_type": "stream",
     "text": [
      "Serving customer: Alice\n",
      "Serving customer: Bob\n"
     ]
    }
   ],
   "source": [
    "from collections import deque\n",
    "\n",
    "class CustomerServiceQueue:\n",
    "    def __init__(self):\n",
    "        self.queue = deque()\n",
    "    \n",
    "    def add_customer(self, name):\n",
    "        self.queue.append(name)\n",
    "    \n",
    "    def serve_customer(self):\n",
    "        if self.queue:\n",
    "            print(f\"Serving customer: {self.queue.popleft()}\")\n",
    "        else:\n",
    "            print(\"No customers in the queue.\")\n",
    "\n",
    "service = CustomerServiceQueue()\n",
    "service.add_customer(\"Alice\")\n",
    "service.add_customer(\"Bob\")\n",
    "service.serve_customer()\n",
    "service.serve_customer()"
   ]
  },
  {
   "cell_type": "markdown",
   "id": "3273c31c-6980-4b16-9af2-7b040066a914",
   "metadata": {},
   "source": [
    "# 3. Double-ended Queue (Deque):\n",
    "\n",
    "    Task: Implement a deque (queue with insertion and removal from both ends).\n",
    "    Approach: Use collections.deque to simulate operations on both ends."
   ]
  },
  {
   "cell_type": "code",
   "execution_count": null,
   "id": "95f32aed-e5e5-43a3-b885-545b41ff89f0",
   "metadata": {},
   "outputs": [],
   "source": [
    "from collections import deque\n",
    "\n",
    "d = deque()\n",
    "d.append(1)  # Add to the right\n",
    "d.appendleft(2)  # Add to the left\n",
    "print(d.pop())  # Remove from the right\n",
    "print(d.popleft())  # Remove from the left\n"
   ]
  },
  {
   "cell_type": "markdown",
   "id": "65a278e9-dc74-494c-8ee9-d9f2e29d6a16",
   "metadata": {},
   "source": [
    "# Hash Maps Applications\n"
   ]
  },
  {
   "cell_type": "code",
   "execution_count": 95,
   "id": "a50d3bc5-f09c-49a2-8a60-7af597bcf6b1",
   "metadata": {},
   "outputs": [
    {
     "name": "stdout",
     "output_type": "stream",
     "text": [
      "4 2\n",
      "5 1\n"
     ]
    }
   ],
   "source": [
    "# Check sums\n",
    "def check_sums(numbers, target):\n",
    "    hash = {}\n",
    "    for i in numbers:\n",
    "        complement = target - i\n",
    "        if complement in hash:\n",
    "            print(i, complement)\n",
    "        else:\n",
    "            hash[i] = i\n",
    "    \n",
    "numbers = [1,2,3,4,5,6]\n",
    "Target = 6\n",
    "check_sums(numbers, Target) \n"
   ]
  },
  {
   "cell_type": "code",
   "execution_count": 111,
   "id": "52338bda-933d-416d-9a51-6a0cfe35e9fb",
   "metadata": {},
   "outputs": [
    {
     "name": "stdout",
     "output_type": "stream",
     "text": [
      "[('O', 3), ('A', 2), ('G', 1)]\n"
     ]
    }
   ],
   "source": [
    "# Count Elements\n",
    "def count_elements(elements):\n",
    "    elements_count = {}\n",
    "    for element in elements:\n",
    "        if element in elements_count.keys():\n",
    "            elements_count[element] += 1\n",
    "        else:\n",
    "            elements_count[element] = 1\n",
    "    print(sorted(elements_count.items(), key = lambda x: x[1], reverse = True))\n",
    "    \n",
    "fruits = ['A', 'A', 'O', 'G', 'O', 'O']\n",
    "count_elements(fruits)"
   ]
  },
  {
   "cell_type": "markdown",
   "id": "6564ff98-caf0-4b08-8488-2c0dda528d55",
   "metadata": {},
   "source": [
    "# Heaps\n"
   ]
  },
  {
   "cell_type": "code",
   "execution_count": 119,
   "id": "ccf12062-655d-475a-9320-d52d650ed712",
   "metadata": {},
   "outputs": [
    {
     "name": "stdout",
     "output_type": "stream",
     "text": [
      "[1, 10, 5, 40]\n",
      "[1, 5]\n",
      "[40, 10]\n",
      "1\n",
      "[5, 10, 40]\n",
      "[10, 10, 40]\n"
     ]
    }
   ],
   "source": [
    "import heapq\n",
    "heap = []\n",
    "heapq.heappush(heap, 5)\n",
    "heapq.heappush(heap, 10)\n",
    "heapq.heappush(heap, 1)\n",
    "heapq.heappush(heap, 40)\n",
    "print(heap)\n",
    "print(heapq.nsmallest(2,heap))\n",
    "print(heapq.nlargest(2,heap))\n",
    "print(heapq.heappop(heap))\n",
    "print(heap)\n",
    "heapq.heappushpop(heap, 10)\n",
    "print(heap)"
   ]
  },
  {
   "cell_type": "code",
   "execution_count": 120,
   "id": "2093105b-d679-4906-aa4d-3fa7033d3d9b",
   "metadata": {},
   "outputs": [
    {
     "name": "stdout",
     "output_type": "stream",
     "text": [
      "Largest element: 20\n"
     ]
    }
   ],
   "source": [
    "# Max-Heap with Negation Trick\n",
    "import heapq\n",
    "\n",
    "max_heap = []\n",
    "\n",
    "# Push elements (negated to simulate max heap)\n",
    "heapq.heappush(max_heap, -10)\n",
    "heapq.heappush(max_heap, -20)\n",
    "heapq.heappush(max_heap, -5)\n",
    "\n",
    "# Pop the largest element (which is the smallest negative)\n",
    "largest = -heapq.heappop(max_heap)\n",
    "print(\"Largest element:\", largest)\n"
   ]
  },
  {
   "cell_type": "code",
   "execution_count": 133,
   "id": "0868661c-14f2-4931-9334-34f58a5ab2a0",
   "metadata": {},
   "outputs": [
    {
     "name": "stdout",
     "output_type": "stream",
     "text": [
      "[7, 6, 5, 4, 2, 3, 1, 2]\n"
     ]
    }
   ],
   "source": [
    "numbers = [1,2,5,2,6,3,7,4]\n",
    "numbers = [-1*num for num in numbers]\n",
    "heapq.heapify(numbers)\n",
    "numbers = [-1*num for num in numbers]\n",
    "print(numbers)"
   ]
  },
  {
   "cell_type": "code",
   "execution_count": 134,
   "id": "ab9d8029-1ceb-4afd-b1e7-b06d2018d240",
   "metadata": {},
   "outputs": [
    {
     "name": "stdout",
     "output_type": "stream",
     "text": [
      "Sorted data: [5, 10, 15, 20, 30]\n"
     ]
    }
   ],
   "source": [
    "# HeapSort\n",
    "import heapq\n",
    "\n",
    "data = [10, 20, 5, 30, 15]\n",
    "heapq.heapify(data)\n",
    "\n",
    "# Extract elements in sorted order\n",
    "sorted_data = [heapq.heappop(data) for _ in range(len(data))]\n",
    "print(\"Sorted data:\", sorted_data)\n"
   ]
  },
  {
   "cell_type": "code",
   "execution_count": 138,
   "id": "a387db10-3d42-4457-8073-4eb8584c4bcc",
   "metadata": {},
   "outputs": [
    {
     "name": "stdout",
     "output_type": "stream",
     "text": [
      "[8, 8, 6, 3, 2, 1]\n"
     ]
    }
   ],
   "source": [
    "import heapq\n",
    "numbers = [1,2,6,8,3,8]\n",
    "numbers = [-1 * number for number in numbers]\n",
    "heapq.heapify(numbers)\n",
    "sorted_numbers = [heapq.heappop(numbers) for _ in range(len(numbers))]\n",
    "sorted_numbers = [-1 * number for number in sorted_numbers]\n",
    "print(sorted_numbers)"
   ]
  },
  {
   "cell_type": "markdown",
   "id": "4f22f627-221e-49c7-a71a-c7d3cc3823eb",
   "metadata": {},
   "source": [
    "# 4. Merge K Sorted Lists (Very Important)\n",
    "\n",
    "This problem requires merging multiple sorted lists into one sorted list. A heap can be used to efficiently merge them.\n",
    "Problem:\n",
    "\n",
    "You have k sorted lists and need to merge them into a single sorted list.\n",
    "Solution:\n",
    "\n",
    "Use a min-heap to merge the k sorted lists."
   ]
  },
  {
   "cell_type": "code",
   "execution_count": 31,
   "id": "3b9bd613-c7ae-42d6-93f0-c5583dfd1682",
   "metadata": {},
   "outputs": [
    {
     "name": "stdout",
     "output_type": "stream",
     "text": [
      "[(1, 0), (2, 1), (7, 2)]\n",
      "[]\n",
      "[1, 2, 3, 4, 5, 6, 7, 8, 9]\n"
     ]
    }
   ],
   "source": [
    "a = [1,3,5]\n",
    "b = [2,4,6]\n",
    "c = [7,8,9]\n",
    "lists = [a,b,c]\n",
    "heap = []\n",
    "for i, lst in enumerate(lists):\n",
    "    if lst:\n",
    "        heapq.heappush(heap, (lst.pop(0),i))\n",
    "print(heap)\n",
    "result = []\n",
    "while heap:\n",
    "    val, index = heapq.heappop(heap)\n",
    "    result.append(val)\n",
    "    if lists[index]:\n",
    "        heapq.heappush(heap, (lists[index].pop(0),index))\n",
    "\n",
    "print(heap)\n",
    "print(result)"
   ]
  },
  {
   "cell_type": "code",
   "execution_count": 17,
   "id": "7232b463-3f3e-48ff-b796-a4442d8982b3",
   "metadata": {},
   "outputs": [
    {
     "name": "stdout",
     "output_type": "stream",
     "text": [
      "[[1, 5, 7, 3, 7, 4, 9, 2], [1, 5, 7, 8, 3, 4, 5]]\n",
      "[1, 2, 3, 4, 5, 7, 8, 9]\n",
      "[1, 2, 3, 4, 5, 7, 8, 9]\n"
     ]
    }
   ],
   "source": [
    "a = [1,5,7,3,7,4,9,2]\n",
    "b = [1,5,7,8,3,4,5]\n",
    "c = [a,b]\n",
    "print(c)\n",
    "a.extend(b)\n",
    "c = set(a)\n",
    "a = list(c)\n",
    "# a.append(b)\n",
    "heapq.heapify(a)\n",
    "print(a)\n",
    "\n",
    "a = list(set(a).union(b))\n",
    "heapq.heapify(a)\n",
    "print(a)\n",
    "\n"
   ]
  },
  {
   "cell_type": "code",
   "execution_count": 22,
   "id": "5f12670a-36e2-4765-8c82-caa627cd0fad",
   "metadata": {},
   "outputs": [
    {
     "name": "stdout",
     "output_type": "stream",
     "text": [
      "[1, 2, 3, 4, 5, 6, 7, 8, 9]\n"
     ]
    }
   ],
   "source": [
    "lists = [\n",
    "    [1, 4, 7],\n",
    "    [2, 5, 8],\n",
    "    [3, 6, 9]\n",
    "]\n",
    "heap = []\n",
    "for list in lists:\n",
    "    heap.extend(list)\n",
    "# heapq.heapify(heap)\n",
    "heap = sorted(heap)\n",
    "print(heap)"
   ]
  },
  {
   "cell_type": "code",
   "execution_count": 32,
   "id": "1dfdced0-3744-43a5-9908-aef70630c390",
   "metadata": {},
   "outputs": [
    {
     "name": "stdout",
     "output_type": "stream",
     "text": [
      "Merged sorted list: [1, 2, 3, 4, 5, 6, 7, 8, 9]\n"
     ]
    }
   ],
   "source": [
    "import heapq\n",
    "\n",
    "# k sorted lists\n",
    "lists = [\n",
    "    [1, 4, 7],\n",
    "    [2, 5, 8],\n",
    "    [3, 6, 9]\n",
    "]\n",
    "\n",
    "# Create a heap for the merging process\n",
    "heap = []\n",
    "for i, lst in enumerate(lists):\n",
    "    if lst:\n",
    "        heapq.heappush(heap, (lst.pop(0), i))  # Push first element of each list with index\n",
    "\n",
    "result = []\n",
    "while heap:\n",
    "    val, list_index = heapq.heappop(heap)\n",
    "    result.append(val)\n",
    "    if lists[list_index]:\n",
    "        heapq.heappush(heap, (lists[list_index].pop(0), list_index))\n",
    "\n",
    "print(\"Merged sorted list:\", result)\n"
   ]
  },
  {
   "cell_type": "code",
   "execution_count": 38,
   "id": "95a05696-372e-4bbc-9a1e-384585b300d6",
   "metadata": {},
   "outputs": [
    {
     "name": "stdout",
     "output_type": "stream",
     "text": [
      "12\n"
     ]
    }
   ],
   "source": [
    "a = [12, 3, 5, 7, 19]\n",
    "heapq.heapify(a)\n",
    "print(heapq.nsmallest(4,a)[3])\n"
   ]
  },
  {
   "cell_type": "code",
   "execution_count": 44,
   "id": "16de4d72-332d-4a01-b734-e8ef47e09669",
   "metadata": {},
   "outputs": [
    {
     "name": "stdout",
     "output_type": "stream",
     "text": [
      "[-19, -7, -5, -3]\n",
      "The 4th smallest element is: 12\n"
     ]
    }
   ],
   "source": [
    "import heapq\n",
    "\n",
    "numbers = [19, 3, 5, 7, 12]\n",
    "k = 4\n",
    "\n",
    "# Build a max-heap of the first k elements\n",
    "max_heap = [-num for num in numbers[:k]]\n",
    "heapq.heapify(max_heap)\n",
    "print(max_heap)\n",
    "# # Process the rest of the elements and maintain the heap\n",
    "for num in numbers[k:]:\n",
    "    if -max_heap[0] > num:\n",
    "        heapq.heapreplace(max_heap, -num)\n",
    "\n",
    "# The root of the heap will be the kth smallest element\n",
    "kth_smallest = -max_heap[0]\n",
    "print(f\"The {k}th smallest element is: {kth_smallest}\")\n"
   ]
  },
  {
   "cell_type": "markdown",
   "id": "9dd87974-fc38-4eb3-a906-276a3da8ffde",
   "metadata": {},
   "source": [
    "# 3. Kth Smallest Element\n",
    "\n",
    "Given an unsorted list, find the kth smallest element using a heap.\n",
    "Problem:\n",
    "\n",
    "Find the 4th smallest element in the list [12, 3, 5, 7, 19].\n",
    "Solution:\n",
    "\n",
    "Use a max-heap to keep track of the k smallest elements."
   ]
  },
  {
   "cell_type": "code",
   "execution_count": 64,
   "id": "c5c904ae-db5e-4e9f-9688-7a0694c390ef",
   "metadata": {},
   "outputs": [
    {
     "name": "stdout",
     "output_type": "stream",
     "text": [
      "[-4, -2, -3, -1]\n",
      "4\n",
      "4\n"
     ]
    }
   ],
   "source": [
    "# Solution 1: This is the best solution\n",
    "import heapq \n",
    "numbers = [1,2,3,4,5,6]\n",
    "k = 4\n",
    "# Extraxt the kth max_heap from numbers\n",
    "max_heap = [-num for num in numbers[:k]]\n",
    "heapq.heapify(max_heap)\n",
    "print(max_heap)\n",
    "# To process the rest of items and maintain the max heap\n",
    "for num in numbers[k:]:\n",
    "    if -max_heap[0] > num:\n",
    "        heapq.heapreplace(max_heap, -num)\n",
    "        print(max_heap)\n",
    "print(-max_heap[0])\n",
    "# Solution 2: This looks simpler but it's more time complexity\n",
    "numbers = [1,2,3,4,5,6]\n",
    "heapq.heapify(numbers)\n",
    "print(heapq.nsmallest(4,numbers)[3])"
   ]
  },
  {
   "cell_type": "markdown",
   "id": "9ad6d61e-639c-414b-89fd-1256cdad5ad0",
   "metadata": {},
   "source": [
    "# 2. Finding the K Largest Elements in a List\n",
    "\n",
    "This is a common problem where you need to find the k largest elements from a large dataset.\n",
    "Problem:\n",
    "\n",
    "You are given a list of numbers, and you need to find the 3 largest numbers.\n",
    "Solution:\n",
    "\n",
    "Use a heap to maintain a heap of the k largest elements."
   ]
  },
  {
   "cell_type": "code",
   "execution_count": 72,
   "id": "d423d773-30ab-4e4c-96c2-50c201a2e5e7",
   "metadata": {},
   "outputs": [
    {
     "name": "stdout",
     "output_type": "stream",
     "text": [
      "45\n",
      "[10, 99, 77]\n",
      "45\n"
     ]
    }
   ],
   "source": [
    "import heapq\n",
    "numbers = [10, 20, 4, 45, 99, 8, 77]\n",
    "k = 3\n",
    "# Solution 1: Which is the simplest but more time consuming\n",
    "heapq.heapify(numbers)\n",
    "print(heapq.nlargest(3,numbers)[2])\n",
    "# Solution 2: This is the best solution\n",
    "max_heap = [num for num in numbers[-k:]]\n",
    "heapq.heapify(max_heap)\n",
    "print(max_heap)\n",
    "for num in numbers[:-k]:\n",
    "    if max_heap[0] < num:\n",
    "        heapq.heapreplace(max_heap, num)\n",
    "print(max_heap[0])\n"
   ]
  },
  {
   "cell_type": "markdown",
   "id": "45031003-487f-46ca-adbd-841f4e61b4ad",
   "metadata": {},
   "source": [
    "# 1. Priority Queue\n",
    "\n",
    "A priority queue is a common use case for heaps. It is used when you want to manage a collection of tasks where each task has a priority.\n",
    "Problem:\n",
    "\n",
    "You are working with a task scheduling system where each task has a priority, and you need to process the tasks starting from the highest priority.\n",
    "Solution:\n",
    "\n",
    "Use a heap to manage tasks where tasks with higher priorities are processed first."
   ]
  },
  {
   "cell_type": "code",
   "execution_count": 73,
   "id": "85961ae0-e891-40fe-a51d-a5653a38f655",
   "metadata": {},
   "outputs": [
    {
     "name": "stdout",
     "output_type": "stream",
     "text": [
      "Processing task: Do homework with priority 3\n",
      "Processing task: Clean the house with priority 2\n",
      "Processing task: Go grocery shopping with priority 1\n"
     ]
    }
   ],
   "source": [
    "import heapq\n",
    "\n",
    "class Task:\n",
    "    def __init__(self, priority, task_name):\n",
    "        self.priority = priority\n",
    "        self.task_name = task_name\n",
    "\n",
    "    def __lt__(self, other): # lt means less than\n",
    "        return self.priority > other.priority  # Higher priority tasks come first\n",
    "\n",
    "# Create a priority queue\n",
    "pq = []\n",
    "\n",
    "# Insert tasks with different priorities\n",
    "heapq.heappush(pq, Task(3, \"Do homework\"))\n",
    "heapq.heappush(pq, Task(1, \"Go grocery shopping\"))\n",
    "heapq.heappush(pq, Task(2, \"Clean the house\"))\n",
    "\n",
    "# Process tasks by priority\n",
    "while pq:\n",
    "    task = heapq.heappop(pq)\n",
    "    print(f\"Processing task: {task.task_name} with priority {task.priority}\")\n"
   ]
  },
  {
   "cell_type": "markdown",
   "id": "0b965bc7-df92-4425-a186-fd794c8969d9",
   "metadata": {},
   "source": [
    "# 5. Top K Frequent Elements\n",
    "\n",
    "In this problem, you need to return the k most frequent elements from a list.\n",
    "Problem:\n",
    "\n",
    "Given a list of numbers, return the top 3 most frequent elements.\n",
    "Solution:\n",
    "\n",
    "Use a heap to maintain the k most frequent elements."
   ]
  },
  {
   "cell_type": "code",
   "execution_count": 89,
   "id": "805e3053-5abc-4e00-928b-b7f9bcb47daf",
   "metadata": {},
   "outputs": [
    {
     "name": "stdout",
     "output_type": "stream",
     "text": [
      "Counter({4: 4, 1: 3, 2: 2, 3: 1})\n",
      "The top 3 most frequent elements are: [(4, 4), (1, 3), (2, 2)]\n",
      "{1: 3, 2: 2, 3: 1, 4: 4}\n",
      "[(4, 4), (3, 1), (2, 2)]\n"
     ]
    }
   ],
   "source": [
    "# Solution 1: which is the best in terms of time complexity\n",
    "import heapq\n",
    "from collections import Counter\n",
    "\n",
    "numbers = [1, 1, 1, 2, 2, 3,4,4,4,4]\n",
    "k = 3\n",
    "\n",
    "# Count the frequency of each element\n",
    "frequency = Counter(numbers)\n",
    "print(frequency)\n",
    "# Use heapq to find the k most frequent elements\n",
    "top_k = heapq.nlargest(k, frequency.items(), key=lambda x: x[1])\n",
    "\n",
    "print(f\"The top {k} most frequent elements are: {top_k}\")\n",
    "# Solution 2: not the best since using sorted is O(N log N)\n",
    "numbers = [1, 1, 1, 2, 2, 3,4,4,4,4]\n",
    "counts = {}\n",
    "for num in numbers:\n",
    "    if num in counts.keys():\n",
    "        counts[num] +=1\n",
    "    else:\n",
    "        counts[num] = 1\n",
    "print(counts)\n",
    "sorted_counts = sorted(counts.items(), key=lambda x: x[0], reverse = True)\n",
    "print(sorted_counts[:3])"
   ]
  },
  {
   "cell_type": "markdown",
   "id": "7179c562-f77d-4a6e-a962-ce0245e3b5a9",
   "metadata": {},
   "source": [
    "# 6. Heap Sort\n",
    "\n",
    "Heap sort is an efficient sorting algorithm based on a heap. It can be used to sort an array in descending or ascending order.\n",
    "Problem:\n",
    "\n",
    "Sort an array using a heap.\n",
    "Solution:\n",
    "\n",
    "Build a heap from the input data, then repeatedly extract the minimum (or maximum) element from the heap."
   ]
  },
  {
   "cell_type": "code",
   "execution_count": 98,
   "id": "c19abb2d-ea6f-4a15-aaa8-df8955a6ee7c",
   "metadata": {},
   "outputs": [
    {
     "name": "stdout",
     "output_type": "stream",
     "text": [
      "[3, 5, 7, 12, 19]\n",
      "[19, 12, 7, 5, 3]\n"
     ]
    }
   ],
   "source": [
    "import heapq\n",
    "numbers = [12, 3, 5, 7, 19]\n",
    "heapq.heapify(numbers)\n",
    "sorted_numbers_ASC = [heapq.heappop(numbers) for _ in range(len(numbers))]\n",
    "print(sorted_numbers_ASC)\n",
    "numbers = [12, 3, 5, 7, 19]\n",
    "max_heap = [-num for num in numbers]\n",
    "heapq.heapify(max_heap)\n",
    "sorted_numbers_DESC = [-heapq.heappop(max_heap) for _ in range(len(max_heap))]\n",
    "print(sorted_numbers_DESC)"
   ]
  },
  {
   "cell_type": "markdown",
   "id": "af3504eb-d3ee-4b55-8a22-7ac4889f1629",
   "metadata": {},
   "source": [
    "# 7. Running Median\n",
    "\n",
    "This is a common problem where you need to find the median of a stream of numbers in an efficient manner. You can use two heaps: a max-heap to store the smaller half of the numbers and a min-heap to store the larger half.\n",
    "Problem:\n",
    "\n",
    "You are given a stream of numbers, and you need to calculate the median after every number is added to the stream.\n",
    "Solution:\n",
    "\n",
    "Use two heaps (a max-heap and a min-heap) to calculate the median efficiently."
   ]
  },
  {
   "cell_type": "code",
   "execution_count": 100,
   "id": "ef8f2a65-5447-4705-89f9-cca676fa4c10",
   "metadata": {},
   "outputs": [
    {
     "name": "stdout",
     "output_type": "stream",
     "text": [
      "Median after adding 1: 1\n",
      "Median after adding 5: 3.0\n",
      "Median after adding 3: 3\n",
      "Median after adding 4: 3.5\n",
      "Median after adding 2: 3\n"
     ]
    }
   ],
   "source": [
    "import heapq\n",
    "\n",
    "class RunningMedian:\n",
    "    def __init__(self):\n",
    "        self.max_heap = []  # Max heap to store the smaller half\n",
    "        self.min_heap = []  # Min heap to store the larger half\n",
    "\n",
    "    def add_num(self, num):\n",
    "        if len(self.max_heap) == 0 or num <= -self.max_heap[0]:\n",
    "            heapq.heappush(self.max_heap, -num)  # Push negative for max-heap\n",
    "        else:\n",
    "            heapq.heappush(self.min_heap, num)\n",
    "\n",
    "        # Rebalance the heaps if necessary\n",
    "        if len(self.max_heap) > len(self.min_heap) + 1:\n",
    "            heapq.heappush(self.min_heap, -heapq.heappop(self.max_heap))\n",
    "        elif len(self.min_heap) > len(self.max_heap):\n",
    "            heapq.heappush(self.max_heap, -heapq.heappop(self.min_heap))\n",
    "\n",
    "    def find_median(self):\n",
    "        if len(self.max_heap) > len(self.min_heap):\n",
    "            return -self.max_heap[0]\n",
    "        else:\n",
    "            return (-self.max_heap[0] + self.min_heap[0]) / 2\n",
    "\n",
    "# Example usage\n",
    "rm = RunningMedian()\n",
    "numbers = [1, 5, 3, 4, 2]\n",
    "\n",
    "for num in numbers:\n",
    "    rm.add_num(num)\n",
    "    print(f\"Median after adding {num}: {rm.find_median()}\")\n"
   ]
  },
  {
   "cell_type": "markdown",
   "id": "3451c34b-cc91-49d9-aa69-17990af0de74",
   "metadata": {},
   "source": [
    "# Recursive Algorithm"
   ]
  },
  {
   "cell_type": "code",
   "execution_count": 109,
   "id": "5c23a963-ba11-48f5-b44e-cd69a3103440",
   "metadata": {},
   "outputs": [
    {
     "name": "stdout",
     "output_type": "stream",
     "text": [
      "55\n"
     ]
    }
   ],
   "source": [
    "# Fibonacci Numbers: 0 1 1 2 3 5 8 \n",
    "def fibonacci(n):\n",
    "    \n",
    "    if n <= 0:\n",
    "        return 0\n",
    "    elif n == 1:\n",
    "        return 1\n",
    "    else:\n",
    "        return fibonacci(n - 1) , fibonacci(n - 2)\n",
    "        \n",
    "# print(fibonacci(10))\n"
   ]
  },
  {
   "cell_type": "code",
   "execution_count": 112,
   "id": "cfa71a0f-ab64-4de1-a182-17036df97d11",
   "metadata": {},
   "outputs": [
    {
     "name": "stdout",
     "output_type": "stream",
     "text": [
      "[0, 1, 1, 2, 3, 5, 8, 13, 21, 34, 55]\n"
     ]
    }
   ],
   "source": [
    "def fibonacci(n):\n",
    "    if n == 0:\n",
    "        return [0]\n",
    "    elif n == 1:\n",
    "        return [0, 1]\n",
    "    else:\n",
    "        seq = fibonacci(n - 1)  # Get the previous sequence\n",
    "        seq.append(seq[-1] + seq[-2])  # Add the next Fibonacci number\n",
    "        return seq\n",
    "\n",
    "print(fibonacci(10))  \n",
    "# Output: [0, 1, 1, 2, 3, 5, 8, 13, 21, 34, 55]\n"
   ]
  },
  {
   "cell_type": "code",
   "execution_count": 163,
   "id": "a157e804-80e5-43b7-b5e3-40d24aa03546",
   "metadata": {},
   "outputs": [
    {
     "name": "stdout",
     "output_type": "stream",
     "text": [
      "dict_items([(2, 1)])\n",
      "dict_items([(2, 1), (3, 2)])\n",
      "1\n",
      "dict_items([(2, 1), (3, 2), (4, 3)])\n",
      "2\n",
      "dict_items([(2, 1), (3, 2), (4, 3), (5, 5)])\n",
      "3\n",
      "dict_items([(2, 1), (3, 2), (4, 3), (5, 5), (6, 8)])\n",
      "5\n",
      "dict_items([(2, 1), (3, 2), (4, 3), (5, 5), (6, 8), (7, 13)])\n",
      "8\n",
      "dict_items([(2, 1), (3, 2), (4, 3), (5, 5), (6, 8), (7, 13), (8, 21)])\n",
      "13\n",
      "dict_items([(2, 1), (3, 2), (4, 3), (5, 5), (6, 8), (7, 13), (8, 21), (9, 34)])\n",
      "21\n",
      "dict_items([(2, 1), (3, 2), (4, 3), (5, 5), (6, 8), (7, 13), (8, 21), (9, 34), (10, 55)])\n",
      "55\n"
     ]
    }
   ],
   "source": [
    "# Fibonacci using Dynamic Programming: This supposed to be much better, still need to be understood\n",
    "def fibonacci_memo(n, memo={}):\n",
    "    if n in memo:\n",
    "        print (memo[n])\n",
    "        return memo[n]\n",
    "    if n <= 1:\n",
    "        return n\n",
    "    memo[n] = fibonacci_memo(n - 1, memo) + fibonacci_memo(n - 2, memo)\n",
    "    print(memo.items())\n",
    "    return memo[n]\n",
    "    \n",
    "\n",
    "print(fibonacci_memo(10))  # Output: 55\n"
   ]
  },
  {
   "cell_type": "code",
   "execution_count": 118,
   "id": "1dc3d749-f31f-4fae-a10d-eebaa3dcc9b3",
   "metadata": {},
   "outputs": [
    {
     "name": "stdout",
     "output_type": "stream",
     "text": [
      "24\n"
     ]
    }
   ],
   "source": [
    "# Factorial:\n",
    "def factorial(n):\n",
    "    if n == 1 or n == 0:\n",
    "        return 1\n",
    "    else:\n",
    "        return n * factorial(n-1)\n",
    "print(factorial(4))"
   ]
  },
  {
   "cell_type": "code",
   "execution_count": 120,
   "id": "b6930fb4-b937-4edb-a7cc-45a4c4e6fee1",
   "metadata": {},
   "outputs": [
    {
     "name": "stdout",
     "output_type": "stream",
     "text": [
      "10\n"
     ]
    }
   ],
   "source": [
    "# Sum of Digits\n",
    "def sum_of_digits(number):\n",
    "    if number == 0:\n",
    "        return 0\n",
    "    else:\n",
    "        return (number % 10) + sum_of_digits(number // 10)\n",
    "number = 1234\n",
    "print(sum_of_digits(number))"
   ]
  },
  {
   "cell_type": "code",
   "execution_count": 134,
   "id": "70eda399-c46d-482e-a0d9-071c8ace7d4a",
   "metadata": {},
   "outputs": [
    {
     "name": "stdout",
     "output_type": "stream",
     "text": [
      "olleH\n"
     ]
    }
   ],
   "source": [
    "#Method 1 of reversing a string: using recursive\n",
    "def reverse(s):\n",
    "    if len(s) == 0:\n",
    "        return \"\"\n",
    "    else:\n",
    "        return s[len(s) - 1] + reverse(s[:-1])\n",
    "string = \"Hello\"\n",
    "print(reverse(string))\n",
    "\n",
    "# Method 2: using stack ( The stack approach is way better than method 1) (since recursion might become recursion overhead which causes stack overflow)\n",
    "stack = list(string)\n",
    "reverse_list = [stack.pop() for _ in range(len(stack))]\n",
    "reverse_string = \"\".join((reverse_list))"
   ]
  },
  {
   "cell_type": "markdown",
   "id": "0c8c2652-a785-49f0-8572-f2b28e9bf327",
   "metadata": {},
   "source": [
    "# Dynamic Programming\n",
    "\n",
    "- It's all about memorization, to not waste time complexity on already computed values."
   ]
  },
  {
   "cell_type": "code",
   "execution_count": 1,
   "id": "880a9fa0-875d-469d-b0e3-637f1e8d69be",
   "metadata": {},
   "outputs": [
    {
     "name": "stdout",
     "output_type": "stream",
     "text": [
      "5\n",
      "5\n"
     ]
    }
   ],
   "source": [
    "# The Big O here is O(2^n) which is the worst thing in the word (exponentially increasing)\n",
    "def fib(n):\n",
    "    if n == 0:\n",
    "        return 0\n",
    "    elif n == 1 or n == 2:\n",
    "        return 1\n",
    "    else:\n",
    "        return fib(n-1) + fib(n-2)\n",
    "n = 5\n",
    "print(fib(n))\n",
    "\n",
    "# What about trying the DP: here the Big O is (O(n)) which way better\n",
    "dp = [-1] * 1000 # Note: here we initialized to -1 not zero since zero is one of the solutions\n",
    "def fib(n):\n",
    "    if n == 0:\n",
    "        return 0\n",
    "    elif n == 1 :\n",
    "        return 1\n",
    "    elif dp[n] != -1:\n",
    "        return dp[n]\n",
    "    else:\n",
    "        dp[n] = fib(n-1) + fib(n-2)\n",
    "        return dp[n]\n",
    "n = 5\n",
    "print(fib(n))"
   ]
  },
  {
   "cell_type": "markdown",
   "id": "4b1af522-17ad-4b49-85bc-2894fad1760c",
   "metadata": {},
   "source": [
    "# Ex: Sum of First N Natural Numbers"
   ]
  },
  {
   "cell_type": "code",
   "execution_count": 7,
   "id": "150e7c22-3ca6-41af-aa5a-f195792b3ed8",
   "metadata": {},
   "outputs": [
    {
     "name": "stdout",
     "output_type": "stream",
     "text": [
      "15\n"
     ]
    }
   ],
   "source": [
    "dp = [-1] * 1000\n",
    "def sum_n_natural(n):\n",
    "    if n == 0:\n",
    "        return 0\n",
    "    if dp[n] != -1:\n",
    "        return dp[n]\n",
    "    else:\n",
    "        dp[n] = sum_n_natural(n-1) + n\n",
    "        return dp[n]\n",
    "n = 5\n",
    "print(sum_n_natural(n))"
   ]
  },
  {
   "cell_type": "markdown",
   "id": "e5d0453b-a7cf-41fa-a684-9fde9d93f2c5",
   "metadata": {},
   "source": [
    "# Ex:  Print Numbers from N to 1"
   ]
  },
  {
   "cell_type": "code",
   "execution_count": 12,
   "id": "cfdf87ce-932c-47a1-9134-e796ec119659",
   "metadata": {},
   "outputs": [
    {
     "name": "stdout",
     "output_type": "stream",
     "text": [
      "5\n",
      "4\n",
      "3\n",
      "2\n",
      "1\n",
      "None\n"
     ]
    },
    {
     "data": {
      "text/plain": [
       "[5, 4, 3, 2, 1, 0]"
      ]
     },
     "execution_count": 12,
     "metadata": {},
     "output_type": "execute_result"
    }
   ],
   "source": [
    "def print_nums(n):\n",
    "    if n == 0:\n",
    "        return 0\n",
    "    else:\n",
    "        print(n)\n",
    "        print_nums(n-1)\n",
    "n = 5\n",
    "print(print_nums(n))\n",
    "[i for i in range(5,-1,-1)]"
   ]
  },
  {
   "cell_type": "markdown",
   "id": "f7f658d0-5fc8-4df6-b8e0-d72fd128b83c",
   "metadata": {},
   "source": [
    "# Ex: Reverse a String\n",
    "Best Choice?\n",
    "\n",
    "    Use Iterative (reverse(s)) if performance matters.\n",
    "    Use Recursive (reverse_string(s)) if you want a cleaner, functional-style approach.\n",
    "    For very large strings (1000+ characters), prefer iterative to avoid recursion depth limits."
   ]
  },
  {
   "cell_type": "code",
   "execution_count": 22,
   "id": "ea06ddae-2dce-486b-89e8-51f3a64795e4",
   "metadata": {},
   "outputs": [
    {
     "name": "stdout",
     "output_type": "stream",
     "text": [
      "olleH\n",
      "Hell\n"
     ]
    }
   ],
   "source": [
    "def reverse_string(s):\n",
    "    if len(s) == 0:\n",
    "        return \"\"\n",
    "    return s[-1] + reverse_string(s[:-1])\n",
    "s = \"Hello\"\n",
    "print(reverse_string(s))\n",
    "print(s[:-1])"
   ]
  },
  {
   "cell_type": "code",
   "execution_count": 23,
   "id": "2cf7985c-aafc-4395-ac40-0821385d3ccb",
   "metadata": {},
   "outputs": [
    {
     "name": "stdout",
     "output_type": "stream",
     "text": [
      "olleH\n"
     ]
    }
   ],
   "source": [
    "def reverse(s):\n",
    "    stack = []\n",
    "    for i in range(len(s)-1, -1, -1):\n",
    "        stack.append(s[i])\n",
    "    return \"\".join(stack)\n",
    "print(reverse(\"Hello\"))"
   ]
  },
  {
   "cell_type": "code",
   "execution_count": 10,
   "id": "23934a22-ecc7-4816-8fb7-ddfb1bb57f58",
   "metadata": {},
   "outputs": [
    {
     "name": "stdout",
     "output_type": "stream",
     "text": [
      "5\n"
     ]
    }
   ],
   "source": [
    "dp = [-1] * 1000  # Initialize with -1 to indicate \"not computed\"\n",
    "\n",
    "def fib(n):\n",
    "    if n == 0 or n == 1:\n",
    "        return n  # Base cases: fib(0) = 0, fib(1) = 1\n",
    "    \n",
    "    if dp[n] != -1:  # If already computed, return the stored result\n",
    "        return dp[n]\n",
    "    \n",
    "    dp[n] = fib(n-1) + fib(n-2)  # Compute and store result\n",
    "    return dp[n]\n",
    "print(fib(5))  # Output: 5\n"
   ]
  },
  {
   "cell_type": "code",
   "execution_count": 139,
   "id": "af1a0a85-cb8a-40f4-ae08-98038d657eeb",
   "metadata": {},
   "outputs": [
    {
     "name": "stdout",
     "output_type": "stream",
     "text": [
      "27\n",
      "27\n"
     ]
    }
   ],
   "source": [
    "def pow(n, p):\n",
    "    if p == 1:\n",
    "        return n\n",
    "    else:\n",
    "        return n * pow(n, p-1)\n",
    "number = 3\n",
    "power = 3\n",
    "print(number**power)\n",
    "print(pow(number,power))"
   ]
  },
  {
   "cell_type": "markdown",
   "id": "b9d30ceb-8367-4775-bf43-33218e09d745",
   "metadata": {},
   "source": [
    "# 6. Tower of Hanoi\n",
    "\n",
    "Move n disks from source to destination using an auxiliary peg.\n",
    "\n",
    "✅ Recursive Implementation:"
   ]
  },
  {
   "cell_type": "code",
   "execution_count": 140,
   "id": "a7e2bef7-8f44-4421-8555-dcdc9c8fb6a9",
   "metadata": {},
   "outputs": [
    {
     "name": "stdout",
     "output_type": "stream",
     "text": [
      "Move disk 1 from A to C\n",
      "Move disk 2 from A to B\n",
      "Move disk 1 from C to B\n",
      "Move disk 3 from A to C\n",
      "Move disk 1 from B to A\n",
      "Move disk 2 from B to C\n",
      "Move disk 1 from A to C\n"
     ]
    }
   ],
   "source": [
    "def hanoi(n, source, auxiliary, destination):\n",
    "    if n == 1:\n",
    "        print(f\"Move disk 1 from {source} to {destination}\")\n",
    "        return\n",
    "    hanoi(n - 1, source, destination, auxiliary)\n",
    "    print(f\"Move disk {n} from {source} to {destination}\")\n",
    "    hanoi(n - 1, auxiliary, source, destination)\n",
    "\n",
    "hanoi(3, 'A', 'B', 'C')\n"
   ]
  },
  {
   "cell_type": "markdown",
   "id": "4df793f7-c20c-4625-bc90-f443c09472fc",
   "metadata": {},
   "source": [
    "# 7. Generating All Subsequences of a String\n",
    "\n",
    "Example: \"abc\" → [\"\", \"a\", \"b\", \"c\", \"ab\", \"ac\", \"bc\", \"abc\"]\n",
    "\n",
    "✅ Recursive Implementation:"
   ]
  },
  {
   "cell_type": "code",
   "execution_count": 141,
   "id": "f9a505fe-15e9-4664-bd90-c4dfceb2a584",
   "metadata": {},
   "outputs": [
    {
     "name": "stdout",
     "output_type": "stream",
     "text": [
      "abc\n",
      "ab\n",
      "ac\n",
      "a\n",
      "bc\n",
      "b\n",
      "c\n",
      "\n"
     ]
    }
   ],
   "source": [
    "def subsequences(s, output=\"\"):\n",
    "    if len(s) == 0:\n",
    "        print(output)\n",
    "        return\n",
    "    subsequences(s[1:], output + s[0])  # Include the first character\n",
    "    subsequences(s[1:], output)  # Exclude the first character\n",
    "\n",
    "subsequences(\"abc\")\n"
   ]
  },
  {
   "cell_type": "markdown",
   "id": "853fbd4e-ead3-42f4-b20f-ff01a41de592",
   "metadata": {},
   "source": [
    "# 8. Count Ways to Climb Stairs\n",
    "\n",
    "A person can climb 1 or 2 steps at a time. Count ways to climb n stairs.\n",
    "\n",
    "✅ Recursive Implementation:"
   ]
  },
  {
   "cell_type": "code",
   "execution_count": 142,
   "id": "38eb78e9-a286-453c-b7b2-e02202387fc2",
   "metadata": {},
   "outputs": [
    {
     "name": "stdout",
     "output_type": "stream",
     "text": [
      "8\n"
     ]
    }
   ],
   "source": [
    "def count_ways(n):\n",
    "    if n == 0:  # Base case: 1 way (stay at ground)\n",
    "        return 1\n",
    "    if n < 0:  # No way to climb negative stairs\n",
    "        return 0\n",
    "    return count_ways(n - 1) + count_ways(n - 2)\n",
    "\n",
    "print(count_ways(5))  # Output: 8\n"
   ]
  },
  {
   "cell_type": "markdown",
   "id": "23647e10-4313-4cd2-8943-a0bfdd05e5c2",
   "metadata": {},
   "source": [
    "# 9. Merge Sort (Recursive Sorting)\n",
    "\n",
    "A powerful divide-and-conquer sorting algorithm.\n",
    "\n",
    "✅ Recursive Implementation:"
   ]
  },
  {
   "cell_type": "code",
   "execution_count": 143,
   "id": "961337e2-e4a5-4218-b0ff-70d4e328e5f4",
   "metadata": {},
   "outputs": [
    {
     "name": "stdout",
     "output_type": "stream",
     "text": [
      "[3, 9, 10, 27, 38, 43, 82]\n"
     ]
    }
   ],
   "source": [
    "def merge_sort(arr):\n",
    "    if len(arr) <= 1:  # Base case\n",
    "        return arr\n",
    "    \n",
    "    mid = len(arr) // 2\n",
    "    left_half = merge_sort(arr[:mid])\n",
    "    right_half = merge_sort(arr[mid:])\n",
    "    \n",
    "    return merge(left_half, right_half)\n",
    "\n",
    "def merge(left, right):\n",
    "    sorted_list = []\n",
    "    i = j = 0\n",
    "    \n",
    "    while i < len(left) and j < len(right):\n",
    "        if left[i] < right[j]:\n",
    "            sorted_list.append(left[i])\n",
    "            i += 1\n",
    "        else:\n",
    "            sorted_list.append(right[j])\n",
    "            j += 1\n",
    "    \n",
    "    sorted_list.extend(left[i:])\n",
    "    sorted_list.extend(right[j:])\n",
    "    \n",
    "    return sorted_list\n",
    "\n",
    "arr = [38, 27, 43, 3, 9, 82, 10]\n",
    "print(merge_sort(arr))  # Output: Sorted list\n"
   ]
  },
  {
   "cell_type": "markdown",
   "id": "e8b6673d-ddca-439a-b8fa-c44737cd59e5",
   "metadata": {},
   "source": [
    "# 10. Permutations of a String\n",
    "\n",
    "Find all possible arrangements of a string.\n",
    "\n",
    "✅ Recursive Implementation:"
   ]
  },
  {
   "cell_type": "code",
   "execution_count": 144,
   "id": "9c4f6739-8f8c-4ff0-8844-36c124a6aed6",
   "metadata": {},
   "outputs": [
    {
     "name": "stdout",
     "output_type": "stream",
     "text": [
      "abc\n",
      "acb\n",
      "bac\n",
      "bca\n",
      "cab\n",
      "cba\n"
     ]
    }
   ],
   "source": [
    "def permute(s, chosen=\"\"):\n",
    "    if len(s) == 0:\n",
    "        print(chosen)\n",
    "        return\n",
    "    for i in range(len(s)):\n",
    "        permute(s[:i] + s[i+1:], chosen + s[i])\n",
    "\n",
    "permute(\"abc\")\n"
   ]
  },
  {
   "cell_type": "markdown",
   "id": "87ac46bb-b02e-4f4d-9387-5f41a8071517",
   "metadata": {},
   "source": [
    "# Greedy Algorithm"
   ]
  },
  {
   "cell_type": "code",
   "execution_count": 152,
   "id": "a7dc6cd0-01f3-48f9-b61f-2abcf9a14496",
   "metadata": {},
   "outputs": [
    {
     "name": "stdout",
     "output_type": "stream",
     "text": [
      "The coins obtained from this change = 100 is: [25, 25, 25, 25]\n"
     ]
    }
   ],
   "source": [
    "# Coins Change Problem\n",
    "def coins_change(n):\n",
    "    coins_obtained = []\n",
    "    coins = [25,10,5,1]\n",
    "    for coin in coins:\n",
    "        while coin <= n:\n",
    "            n = n-coin\n",
    "            coins_obtained.append(coin)\n",
    "    return coins_obtained\n",
    "            \n",
    "change = 100\n",
    "print(f\"The coins obtained from this change = {change} is: {coins_change(change)}\")"
   ]
  },
  {
   "cell_type": "code",
   "execution_count": null,
   "id": "e4aaa15c-a052-4641-bd5d-f559d7659f20",
   "metadata": {},
   "outputs": [],
   "source": []
  }
 ],
 "metadata": {
  "kernelspec": {
   "display_name": "Python 3 (ipykernel)",
   "language": "python",
   "name": "python3"
  },
  "language_info": {
   "codemirror_mode": {
    "name": "ipython",
    "version": 3
   },
   "file_extension": ".py",
   "mimetype": "text/x-python",
   "name": "python",
   "nbconvert_exporter": "python",
   "pygments_lexer": "ipython3",
   "version": "3.11.7"
  }
 },
 "nbformat": 4,
 "nbformat_minor": 5
}
